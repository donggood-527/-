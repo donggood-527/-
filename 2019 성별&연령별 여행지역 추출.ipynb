{
 "cells": [
  {
   "cell_type": "code",
   "execution_count": 142,
   "metadata": {},
   "outputs": [],
   "source": [
    "import pandas as pd"
   ]
  },
  {
   "cell_type": "code",
   "execution_count": 143,
   "metadata": {},
   "outputs": [],
   "source": [
    "df = pd.read_csv('./csv_file/국민여행조사_여행지역.csv', encoding='utf-8')"
   ]
  },
  {
   "cell_type": "code",
   "execution_count": 144,
   "metadata": {},
   "outputs": [],
   "source": [
    "df = df[df['MON_EXP_1'] == 1]\n",
    "df = df[df['BSEX'] == 1.0]\n",
    "df_20 = df[df['BAGE'] == 2]\n",
    "df_20.reset_index(drop=True, inplace=True)"
   ]
  },
  {
   "cell_type": "code",
   "execution_count": 145,
   "metadata": {},
   "outputs": [],
   "source": [
    "def travel_output(df_20):\n",
    "    dist = []\n",
    "    for i in range(len(df_20)):\n",
    "        if df_20['D_TRA1_1_SPOT1'][i][:2] == '11':\n",
    "            dist.append('서울')\n",
    "        elif df_20['D_TRA1_1_SPOT1'][i][:2] == '21':\n",
    "            dist.append('부산')\n",
    "        elif df_20['D_TRA1_1_SPOT1'][i][:2] == '22':\n",
    "            dist.append('대구')\n",
    "        elif df_20['D_TRA1_1_SPOT1'][i][:2] == '23':\n",
    "            dist.append('인천')\n",
    "        elif df_20['D_TRA1_1_SPOT1'][i][:2] == '25':\n",
    "            dist.append('대전')\n",
    "        elif df_20['D_TRA1_1_SPOT1'][i][:2] == '29':\n",
    "            dist.append('세종')\n",
    "        elif df_20['D_TRA1_1_SPOT1'][i][:2] == '24':\n",
    "            dist.append('광주')\n",
    "        elif df_20['D_TRA1_1_SPOT1'][i][:2] == '26':\n",
    "            dist.append('울산')\n",
    "        elif df_20['D_TRA1_1_SPOT1'][i][:2] == '31':\n",
    "            dist.append('경기도')\n",
    "        elif df_20['D_TRA1_1_SPOT1'][i][:2] == '32':\n",
    "            dist.append('강원도')\n",
    "        elif df_20['D_TRA1_1_SPOT1'][i][:2] == '33':\n",
    "            dist.append('충청북도')\n",
    "        elif df_20['D_TRA1_1_SPOT1'][i][:2] == '37':\n",
    "            dist.append('경상북도')\n",
    "        elif df_20['D_TRA1_1_SPOT1'][i][:2] == '38':\n",
    "            dist.append('경상남도')\n",
    "        elif df_20['D_TRA1_1_SPOT1'][i][:2] == '35':\n",
    "            dist.append('전라북도')\n",
    "        elif df_20['D_TRA1_1_SPOT1'][i][:2] == '36':\n",
    "            dist.append('전라남도')\n",
    "        elif df_20['D_TRA1_1_SPOT1'][i][:2] == '39':\n",
    "            dist.append('제주도')\n",
    "        else:\n",
    "            dist.append('-')\n",
    "    df_20['여행지역'] = dist\n",
    "    return df_20"
   ]
  },
  {
   "cell_type": "code",
   "execution_count": 146,
   "metadata": {},
   "outputs": [
    {
     "name": "stderr",
     "output_type": "stream",
     "text": [
      "C:\\ProgramData\\Anaconda3\\lib\\site-packages\\ipykernel_launcher.py:38: SettingWithCopyWarning: \n",
      "A value is trying to be set on a copy of a slice from a DataFrame.\n",
      "Try using .loc[row_indexer,col_indexer] = value instead\n",
      "\n",
      "See the caveats in the documentation: https://pandas.pydata.org/pandas-docs/stable/user_guide/indexing.html#returning-a-view-versus-a-copy\n"
     ]
    }
   ],
   "source": [
    "df_20 = travel_output(df_20)"
   ]
  },
  {
   "cell_type": "code",
   "execution_count": 147,
   "metadata": {},
   "outputs": [],
   "source": [
    "df = df[df['MON_EXP_1'] == 1]\n",
    "df = df[df['BSEX'] == 1.0]\n",
    "df_30 = df[df['BAGE'] == 3]\n",
    "df_30.reset_index(drop=True, inplace=True)"
   ]
  },
  {
   "cell_type": "code",
   "execution_count": 148,
   "metadata": {},
   "outputs": [
    {
     "name": "stderr",
     "output_type": "stream",
     "text": [
      "C:\\ProgramData\\Anaconda3\\lib\\site-packages\\ipykernel_launcher.py:38: SettingWithCopyWarning: \n",
      "A value is trying to be set on a copy of a slice from a DataFrame.\n",
      "Try using .loc[row_indexer,col_indexer] = value instead\n",
      "\n",
      "See the caveats in the documentation: https://pandas.pydata.org/pandas-docs/stable/user_guide/indexing.html#returning-a-view-versus-a-copy\n"
     ]
    }
   ],
   "source": [
    "df_30 = travel_output(df_30)"
   ]
  },
  {
   "cell_type": "code",
   "execution_count": 149,
   "metadata": {},
   "outputs": [],
   "source": [
    "df = df[df['MON_EXP_1'] == 1]\n",
    "df = df[df['BSEX'] == 1.0]\n",
    "df_40 = df[df['BAGE'] == 4]\n",
    "df_40.reset_index(drop=True, inplace=True)"
   ]
  },
  {
   "cell_type": "code",
   "execution_count": 150,
   "metadata": {},
   "outputs": [
    {
     "name": "stderr",
     "output_type": "stream",
     "text": [
      "C:\\ProgramData\\Anaconda3\\lib\\site-packages\\ipykernel_launcher.py:38: SettingWithCopyWarning: \n",
      "A value is trying to be set on a copy of a slice from a DataFrame.\n",
      "Try using .loc[row_indexer,col_indexer] = value instead\n",
      "\n",
      "See the caveats in the documentation: https://pandas.pydata.org/pandas-docs/stable/user_guide/indexing.html#returning-a-view-versus-a-copy\n"
     ]
    }
   ],
   "source": [
    "df_40 = travel_output(df_40)"
   ]
  },
  {
   "cell_type": "code",
   "execution_count": 151,
   "metadata": {},
   "outputs": [],
   "source": [
    "df = df[df['MON_EXP_1'] == 1]\n",
    "df = df[df['BSEX'] == 1.0]\n",
    "df_50 = df[df['BAGE'] == 5]\n",
    "df_50.reset_index(drop=True, inplace=True)"
   ]
  },
  {
   "cell_type": "code",
   "execution_count": 152,
   "metadata": {},
   "outputs": [
    {
     "name": "stderr",
     "output_type": "stream",
     "text": [
      "C:\\ProgramData\\Anaconda3\\lib\\site-packages\\ipykernel_launcher.py:38: SettingWithCopyWarning: \n",
      "A value is trying to be set on a copy of a slice from a DataFrame.\n",
      "Try using .loc[row_indexer,col_indexer] = value instead\n",
      "\n",
      "See the caveats in the documentation: https://pandas.pydata.org/pandas-docs/stable/user_guide/indexing.html#returning-a-view-versus-a-copy\n"
     ]
    }
   ],
   "source": [
    "df_50 = travel_output(df_50)"
   ]
  },
  {
   "cell_type": "code",
   "execution_count": 153,
   "metadata": {},
   "outputs": [],
   "source": [
    "df = df[df['MON_EXP_1'] == 1]\n",
    "df = df[df['BSEX'] == 1.0]\n",
    "df_60 = df[df['BAGE'] == 6]\n",
    "df_60.reset_index(drop=True, inplace=True)"
   ]
  },
  {
   "cell_type": "code",
   "execution_count": 154,
   "metadata": {},
   "outputs": [
    {
     "name": "stderr",
     "output_type": "stream",
     "text": [
      "C:\\ProgramData\\Anaconda3\\lib\\site-packages\\ipykernel_launcher.py:38: SettingWithCopyWarning: \n",
      "A value is trying to be set on a copy of a slice from a DataFrame.\n",
      "Try using .loc[row_indexer,col_indexer] = value instead\n",
      "\n",
      "See the caveats in the documentation: https://pandas.pydata.org/pandas-docs/stable/user_guide/indexing.html#returning-a-view-versus-a-copy\n"
     ]
    }
   ],
   "source": [
    "df_60 = travel_output(df_60)"
   ]
  },
  {
   "cell_type": "code",
   "execution_count": 155,
   "metadata": {},
   "outputs": [],
   "source": [
    "df = df[df['MON_EXP_1'] == 1]\n",
    "df = df[df['BSEX'] == 1.0]\n",
    "df_70 = df[df['BAGE'] == 7]\n",
    "df_70.reset_index(drop=True, inplace=True)"
   ]
  },
  {
   "cell_type": "code",
   "execution_count": 156,
   "metadata": {},
   "outputs": [
    {
     "name": "stderr",
     "output_type": "stream",
     "text": [
      "C:\\ProgramData\\Anaconda3\\lib\\site-packages\\ipykernel_launcher.py:38: SettingWithCopyWarning: \n",
      "A value is trying to be set on a copy of a slice from a DataFrame.\n",
      "Try using .loc[row_indexer,col_indexer] = value instead\n",
      "\n",
      "See the caveats in the documentation: https://pandas.pydata.org/pandas-docs/stable/user_guide/indexing.html#returning-a-view-versus-a-copy\n"
     ]
    }
   ],
   "source": [
    "df_70 = travel_output(df_70)"
   ]
  },
  {
   "cell_type": "code",
   "execution_count": 157,
   "metadata": {},
   "outputs": [],
   "source": [
    "df = df[df['MON_EXP_1'] == 1]\n",
    "df = df[df['BSEX'] == 2.0]\n",
    "df2_20 = df[df['BAGE'] == 2]\n",
    "df2_20.reset_index(drop=True, inplace=True)"
   ]
  },
  {
   "cell_type": "code",
   "execution_count": 158,
   "metadata": {},
   "outputs": [],
   "source": [
    "df2_20 = travel_output(df2_20)"
   ]
  },
  {
   "cell_type": "code",
   "execution_count": 159,
   "metadata": {},
   "outputs": [],
   "source": [
    "df = df[df['MON_EXP_1'] == 1]\n",
    "df = df[df['BSEX'] == 2.0]\n",
    "df2_30 = df[df['BAGE'] == 3]\n",
    "df2_30.reset_index(drop=True, inplace=True)"
   ]
  },
  {
   "cell_type": "code",
   "execution_count": 160,
   "metadata": {},
   "outputs": [],
   "source": [
    "df2_30 = travel_output(df2_30)"
   ]
  },
  {
   "cell_type": "code",
   "execution_count": 161,
   "metadata": {},
   "outputs": [],
   "source": [
    "df = df[df['MON_EXP_1'] == 1]\n",
    "df = df[df['BSEX'] == 2.0]\n",
    "df2_40 = df[df['BAGE'] == 4]\n",
    "df2_40.reset_index(drop=True, inplace=True)"
   ]
  },
  {
   "cell_type": "code",
   "execution_count": 162,
   "metadata": {},
   "outputs": [],
   "source": [
    "df2_40 = travel_output(df2_40)"
   ]
  },
  {
   "cell_type": "code",
   "execution_count": 163,
   "metadata": {},
   "outputs": [],
   "source": [
    "df = df[df['MON_EXP_1'] == 1]\n",
    "df = df[df['BSEX'] == 2.0]\n",
    "df2_50 = df[df['BAGE'] == 5]\n",
    "df2_50.reset_index(drop=True, inplace=True)"
   ]
  },
  {
   "cell_type": "code",
   "execution_count": 164,
   "metadata": {},
   "outputs": [],
   "source": [
    "df2_50 = travel_output(df2_50)"
   ]
  },
  {
   "cell_type": "code",
   "execution_count": 165,
   "metadata": {},
   "outputs": [],
   "source": [
    "df = df[df['MON_EXP_1'] == 1]\n",
    "df = df[df['BSEX'] == 2.0]\n",
    "df2_60 = df[df['BAGE'] == 6]\n",
    "df2_60.reset_index(drop=True, inplace=True)"
   ]
  },
  {
   "cell_type": "code",
   "execution_count": 166,
   "metadata": {},
   "outputs": [],
   "source": [
    "df2_60 = travel_output(df2_60)"
   ]
  },
  {
   "cell_type": "code",
   "execution_count": 167,
   "metadata": {},
   "outputs": [],
   "source": [
    "df = df[df['MON_EXP_1'] == 1]\n",
    "df = df[df['BSEX'] == 2.0]\n",
    "df2_70 = df[df['BAGE'] == 7]\n",
    "df2_70.reset_index(drop=True, inplace=True)"
   ]
  },
  {
   "cell_type": "code",
   "execution_count": 168,
   "metadata": {},
   "outputs": [],
   "source": [
    "df2_70 = travel_output(df2_70)"
   ]
  },
  {
   "cell_type": "code",
   "execution_count": 169,
   "metadata": {},
   "outputs": [],
   "source": [
    "df_m = pd.concat([df_20, df_30, df_40, df_50, df_60, df_70])"
   ]
  },
  {
   "cell_type": "code",
   "execution_count": 170,
   "metadata": {},
   "outputs": [],
   "source": [
    "df_m.reset_index(drop=True, inplace=True)"
   ]
  },
  {
   "cell_type": "code",
   "execution_count": 171,
   "metadata": {},
   "outputs": [
    {
     "data": {
      "text/html": [
       "<div>\n",
       "<style scoped>\n",
       "    .dataframe tbody tr th:only-of-type {\n",
       "        vertical-align: middle;\n",
       "    }\n",
       "\n",
       "    .dataframe tbody tr th {\n",
       "        vertical-align: top;\n",
       "    }\n",
       "\n",
       "    .dataframe thead th {\n",
       "        text-align: right;\n",
       "    }\n",
       "</style>\n",
       "<table border=\"1\" class=\"dataframe\">\n",
       "  <thead>\n",
       "    <tr style=\"text-align: right;\">\n",
       "      <th></th>\n",
       "      <th>ID</th>\n",
       "      <th>MON_EXP_1</th>\n",
       "      <th>D_TRA1_1_SPOT1</th>\n",
       "      <th>BSEX</th>\n",
       "      <th>BAGE</th>\n",
       "      <th>BARA</th>\n",
       "      <th>여행지역</th>\n",
       "    </tr>\n",
       "  </thead>\n",
       "  <tbody>\n",
       "    <tr>\n",
       "      <th>0</th>\n",
       "      <td>1101069027A_1030489</td>\n",
       "      <td>1</td>\n",
       "      <td>23310</td>\n",
       "      <td>1</td>\n",
       "      <td>2</td>\n",
       "      <td>11</td>\n",
       "      <td>인천</td>\n",
       "    </tr>\n",
       "    <tr>\n",
       "      <th>1</th>\n",
       "      <td>11030520921_1000130</td>\n",
       "      <td>1</td>\n",
       "      <td>32010</td>\n",
       "      <td>1</td>\n",
       "      <td>2</td>\n",
       "      <td>11</td>\n",
       "      <td>강원도</td>\n",
       "    </tr>\n",
       "    <tr>\n",
       "      <th>2</th>\n",
       "      <td>11030700191_1097793</td>\n",
       "      <td>1</td>\n",
       "      <td>31370</td>\n",
       "      <td>1</td>\n",
       "      <td>2</td>\n",
       "      <td>11</td>\n",
       "      <td>경기도</td>\n",
       "    </tr>\n",
       "    <tr>\n",
       "      <th>3</th>\n",
       "      <td>11030710301_1128662</td>\n",
       "      <td>1</td>\n",
       "      <td>32010</td>\n",
       "      <td>1</td>\n",
       "      <td>2</td>\n",
       "      <td>11</td>\n",
       "      <td>강원도</td>\n",
       "    </tr>\n",
       "    <tr>\n",
       "      <th>4</th>\n",
       "      <td>1104052022A_1094206</td>\n",
       "      <td>1</td>\n",
       "      <td></td>\n",
       "      <td>1</td>\n",
       "      <td>2</td>\n",
       "      <td>11</td>\n",
       "      <td>-</td>\n",
       "    </tr>\n",
       "    <tr>\n",
       "      <th>...</th>\n",
       "      <td>...</td>\n",
       "      <td>...</td>\n",
       "      <td>...</td>\n",
       "      <td>...</td>\n",
       "      <td>...</td>\n",
       "      <td>...</td>\n",
       "      <td>...</td>\n",
       "    </tr>\n",
       "    <tr>\n",
       "      <th>8768</th>\n",
       "      <td>39010542161_1350581</td>\n",
       "      <td>1</td>\n",
       "      <td>25050</td>\n",
       "      <td>1</td>\n",
       "      <td>7</td>\n",
       "      <td>39</td>\n",
       "      <td>대전</td>\n",
       "    </tr>\n",
       "    <tr>\n",
       "      <th>8769</th>\n",
       "      <td>39010660201_1127427</td>\n",
       "      <td>1</td>\n",
       "      <td>39020</td>\n",
       "      <td>1</td>\n",
       "      <td>7</td>\n",
       "      <td>39</td>\n",
       "      <td>제주도</td>\n",
       "    </tr>\n",
       "    <tr>\n",
       "      <th>8770</th>\n",
       "      <td>3901066062A_1189633</td>\n",
       "      <td>1</td>\n",
       "      <td>35320</td>\n",
       "      <td>1</td>\n",
       "      <td>7</td>\n",
       "      <td>39</td>\n",
       "      <td>전라북도</td>\n",
       "    </tr>\n",
       "    <tr>\n",
       "      <th>8771</th>\n",
       "      <td>39020110791_1127521</td>\n",
       "      <td>1</td>\n",
       "      <td>39010</td>\n",
       "      <td>1</td>\n",
       "      <td>7</td>\n",
       "      <td>39</td>\n",
       "      <td>제주도</td>\n",
       "    </tr>\n",
       "    <tr>\n",
       "      <th>8772</th>\n",
       "      <td>3902012U01A_1319238</td>\n",
       "      <td>1</td>\n",
       "      <td>11010</td>\n",
       "      <td>1</td>\n",
       "      <td>7</td>\n",
       "      <td>39</td>\n",
       "      <td>서울</td>\n",
       "    </tr>\n",
       "  </tbody>\n",
       "</table>\n",
       "<p>8773 rows × 7 columns</p>\n",
       "</div>"
      ],
      "text/plain": [
       "                       ID  MON_EXP_1 D_TRA1_1_SPOT1  BSEX  BAGE  BARA  여행지역\n",
       "0     1101069027A_1030489          1          23310     1     2    11    인천\n",
       "1     11030520921_1000130          1          32010     1     2    11   강원도\n",
       "2     11030700191_1097793          1          31370     1     2    11   경기도\n",
       "3     11030710301_1128662          1          32010     1     2    11   강원도\n",
       "4     1104052022A_1094206          1                    1     2    11     -\n",
       "...                   ...        ...            ...   ...   ...   ...   ...\n",
       "8768  39010542161_1350581          1          25050     1     7    39    대전\n",
       "8769  39010660201_1127427          1          39020     1     7    39   제주도\n",
       "8770  3901066062A_1189633          1          35320     1     7    39  전라북도\n",
       "8771  39020110791_1127521          1          39010     1     7    39   제주도\n",
       "8772  3902012U01A_1319238          1          11010     1     7    39    서울\n",
       "\n",
       "[8773 rows x 7 columns]"
      ]
     },
     "execution_count": 171,
     "metadata": {},
     "output_type": "execute_result"
    }
   ],
   "source": [
    "df_m"
   ]
  },
  {
   "cell_type": "code",
   "execution_count": 172,
   "metadata": {},
   "outputs": [],
   "source": [
    "df_w = pd.concat([df2_20, df2_30, df2_40, df2_50, df2_60, df2_70])"
   ]
  },
  {
   "cell_type": "code",
   "execution_count": 173,
   "metadata": {},
   "outputs": [],
   "source": [
    "df_w.reset_index(drop=True, inplace=True)"
   ]
  },
  {
   "cell_type": "code",
   "execution_count": 174,
   "metadata": {},
   "outputs": [
    {
     "data": {
      "text/plain": [
       "Series([], Name: 여행지역, dtype: int64)"
      ]
     },
     "execution_count": 174,
     "metadata": {},
     "output_type": "execute_result"
    }
   ],
   "source": [
    "df_w['여행지역'].value_counts()"
   ]
  },
  {
   "cell_type": "code",
   "execution_count": 138,
   "metadata": {},
   "outputs": [
    {
     "data": {
      "text/plain": [
       "강원도     1087\n",
       "전라남도    1011\n",
       "경상북도     876\n",
       "-        868\n",
       "경상남도     825\n",
       "경기도      824\n",
       "전라북도     733\n",
       "부산       531\n",
       "충청북도     421\n",
       "제주도      419\n",
       "서울       341\n",
       "인천       244\n",
       "대전       161\n",
       "대구       141\n",
       "광주       119\n",
       "울산       118\n",
       "세종        54\n",
       "Name: 여행지역, dtype: int64"
      ]
     },
     "execution_count": 138,
     "metadata": {},
     "output_type": "execute_result"
    }
   ],
   "source": [
    "df_m['여행지역'].value_counts()"
   ]
  },
  {
   "cell_type": "code",
   "execution_count": 177,
   "metadata": {},
   "outputs": [],
   "source": [
    "df_m.to_csv('./csv_file/19_남자_여행지역.csv', encoding='utf-8')\n",
    "df_w.to_csv('./csv_file/19_여자_여행지역.csv', encoding='utf-8')"
   ]
  }
 ],
 "metadata": {
  "kernelspec": {
   "display_name": "Python 3",
   "language": "python",
   "name": "python3"
  },
  "language_info": {
   "codemirror_mode": {
    "name": "ipython",
    "version": 3
   },
   "file_extension": ".py",
   "mimetype": "text/x-python",
   "name": "python",
   "nbconvert_exporter": "python",
   "pygments_lexer": "ipython3",
   "version": "3.7.6"
  }
 },
 "nbformat": 4,
 "nbformat_minor": 4
}
