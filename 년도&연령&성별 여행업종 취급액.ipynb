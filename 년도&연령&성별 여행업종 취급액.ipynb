{
 "cells": [
  {
   "cell_type": "code",
   "execution_count": 103,
   "metadata": {},
   "outputs": [],
   "source": [
    "import pandas as pd"
   ]
  },
  {
   "cell_type": "code",
   "execution_count": 104,
   "metadata": {},
   "outputs": [],
   "source": [
    "df_2020 = pd.read_csv('./신한카드 데이터/df_2020.csv')"
   ]
  },
  {
   "cell_type": "code",
   "execution_count": 105,
   "metadata": {},
   "outputs": [],
   "source": [
    "df_2019 = pd.read_csv('./신한카드 데이터/df_2019_상반기.csv')"
   ]
  },
  {
   "cell_type": "code",
   "execution_count": 106,
   "metadata": {},
   "outputs": [],
   "source": [
    "여행2019 = df_2019.groupby('업종2')['취급액'].sum()\n",
    "여행2019 = pd.DataFrame(여행2019)\n",
    "여행2020 = df_2020.groupby('업종2')['취급액'].sum()\n",
    "여행2020 = pd.DataFrame(여행2020)\n",
    "여행추이 = pd.merge(여행2019, 여행2020, on='업종2')\n",
    "여행추이.columns = ['취급액_2019', '취급액_2020']"
   ]
  },
  {
   "cell_type": "code",
   "execution_count": 107,
   "metadata": {},
   "outputs": [],
   "source": [
    "gap = []\n",
    "for i in range(len(여행추이)):\n",
    "    gap.append(((여행추이['취급액_2020'][i] - 여행추이['취급액_2019'][i])/여행추이['취급액_2019'][i])*100)\n",
    "여행추이['gap'] = gap"
   ]
  },
  {
   "cell_type": "code",
   "execution_count": 108,
   "metadata": {},
   "outputs": [],
   "source": [
    "여행추이.index.name = '여행업종'"
   ]
  },
  {
   "cell_type": "code",
   "execution_count": 109,
   "metadata": {},
   "outputs": [
    {
     "data": {
      "text/html": [
       "<div>\n",
       "<style scoped>\n",
       "    .dataframe tbody tr th:only-of-type {\n",
       "        vertical-align: middle;\n",
       "    }\n",
       "\n",
       "    .dataframe tbody tr th {\n",
       "        vertical-align: top;\n",
       "    }\n",
       "\n",
       "    .dataframe thead th {\n",
       "        text-align: right;\n",
       "    }\n",
       "</style>\n",
       "<table border=\"1\" class=\"dataframe\">\n",
       "  <thead>\n",
       "    <tr style=\"text-align: right;\">\n",
       "      <th></th>\n",
       "      <th>취급액_2019</th>\n",
       "      <th>취급액_2020</th>\n",
       "      <th>gap</th>\n",
       "    </tr>\n",
       "    <tr>\n",
       "      <th>여행업종</th>\n",
       "      <th></th>\n",
       "      <th></th>\n",
       "      <th></th>\n",
       "    </tr>\n",
       "  </thead>\n",
       "  <tbody>\n",
       "    <tr>\n",
       "      <th>관광쇼핑</th>\n",
       "      <td>9.431901e+11</td>\n",
       "      <td>3.442703e+11</td>\n",
       "      <td>-63.499369</td>\n",
       "    </tr>\n",
       "    <tr>\n",
       "      <th>교통</th>\n",
       "      <td>4.365871e+12</td>\n",
       "      <td>2.154694e+12</td>\n",
       "      <td>-50.646864</td>\n",
       "    </tr>\n",
       "    <tr>\n",
       "      <th>숙박</th>\n",
       "      <td>1.824582e+12</td>\n",
       "      <td>1.351646e+12</td>\n",
       "      <td>-25.920231</td>\n",
       "    </tr>\n",
       "    <tr>\n",
       "      <th>여행사</th>\n",
       "      <td>8.014119e+11</td>\n",
       "      <td>1.936506e+11</td>\n",
       "      <td>-75.836326</td>\n",
       "    </tr>\n",
       "    <tr>\n",
       "      <th>체험</th>\n",
       "      <td>1.940816e+11</td>\n",
       "      <td>1.178543e+11</td>\n",
       "      <td>-39.275922</td>\n",
       "    </tr>\n",
       "  </tbody>\n",
       "</table>\n",
       "</div>"
      ],
      "text/plain": [
       "          취급액_2019      취급액_2020        gap\n",
       "여행업종                                       \n",
       "관광쇼핑  9.431901e+11  3.442703e+11 -63.499369\n",
       "교통    4.365871e+12  2.154694e+12 -50.646864\n",
       "숙박    1.824582e+12  1.351646e+12 -25.920231\n",
       "여행사   8.014119e+11  1.936506e+11 -75.836326\n",
       "체험    1.940816e+11  1.178543e+11 -39.275922"
      ]
     },
     "execution_count": 109,
     "metadata": {},
     "output_type": "execute_result"
    }
   ],
   "source": [
    "여행추이"
   ]
  },
  {
   "cell_type": "code",
   "execution_count": 110,
   "metadata": {},
   "outputs": [
    {
     "data": {
      "text/plain": [
       "40    152553\n",
       "30    151725\n",
       "20    140925\n",
       "50    139469\n",
       "60     94811\n",
       "Name: 연령대, dtype: int64"
      ]
     },
     "execution_count": 110,
     "metadata": {},
     "output_type": "execute_result"
    }
   ],
   "source": [
    "df_2020.연령대.value_counts()"
   ]
  },
  {
   "cell_type": "code",
   "execution_count": 111,
   "metadata": {},
   "outputs": [
    {
     "data": {
      "text/plain": [
       "연령대\n",
       "20    24613622\n",
       "30    20996700\n",
       "40    18897743\n",
       "50    16068323\n",
       "60     8375745\n",
       "Name: 이용건수, dtype: int64"
      ]
     },
     "execution_count": 111,
     "metadata": {},
     "output_type": "execute_result"
    }
   ],
   "source": [
    "df_2020.groupby('연령대')['이용건수'].sum()"
   ]
  },
  {
   "cell_type": "code",
   "execution_count": 112,
   "metadata": {},
   "outputs": [
    {
     "data": {
      "text/plain": [
       "연령대\n",
       "20    12284992\n",
       "30    11950895\n",
       "40    11077407\n",
       "50     9450130\n",
       "60     5302187\n",
       "Name: 이용건수, dtype: int64"
      ]
     },
     "execution_count": 112,
     "metadata": {},
     "output_type": "execute_result"
    }
   ],
   "source": [
    "df_2020_체험 = df_2020[df_2020['성별'] == 'M'].groupby('연령대')['이용건수'].sum()\n",
    "df_2020_체험"
   ]
  },
  {
   "cell_type": "code",
   "execution_count": 113,
   "metadata": {},
   "outputs": [
    {
     "data": {
      "text/plain": [
       "연령대\n",
       "20    38044309\n",
       "30    32933614\n",
       "40    30856643\n",
       "50    25089872\n",
       "60    12553208\n",
       "Name: 이용건수, dtype: int64"
      ]
     },
     "execution_count": 113,
     "metadata": {},
     "output_type": "execute_result"
    }
   ],
   "source": [
    "df_2019.groupby('연령대')['이용건수'].sum()"
   ]
  },
  {
   "cell_type": "code",
   "execution_count": 114,
   "metadata": {},
   "outputs": [
    {
     "data": {
      "text/plain": [
       "연령대\n",
       "20    38044309\n",
       "30    32933614\n",
       "40    30856643\n",
       "50    25089872\n",
       "60    12553208\n",
       "Name: 이용건수, dtype: int64"
      ]
     },
     "execution_count": 114,
     "metadata": {},
     "output_type": "execute_result"
    }
   ],
   "source": [
    "df_2019.groupby('연령대')['이용건수'].sum()"
   ]
  },
  {
   "cell_type": "code",
   "execution_count": 115,
   "metadata": {},
   "outputs": [
    {
     "data": {
      "text/plain": [
       "연령대\n",
       "20     785533\n",
       "30    1874386\n",
       "40    1485948\n",
       "50     643771\n",
       "60     386835\n",
       "Name: 이용건수, dtype: int64"
      ]
     },
     "execution_count": 115,
     "metadata": {},
     "output_type": "execute_result"
    }
   ],
   "source": [
    "df_2020_체험 = df_2020[df_2020['업종2'] == '체험'].groupby('연령대')['이용건수'].sum()\n",
    "df_2020_체험\n",
    "# 30대가 체험을 가장 많이 함"
   ]
  },
  {
   "cell_type": "code",
   "execution_count": 116,
   "metadata": {},
   "outputs": [
    {
     "data": {
      "text/plain": [
       "업종2\n",
       "관광쇼핑      937793\n",
       "교통      18217121\n",
       "숙박       4583641\n",
       "여행사        89534\n",
       "체험        785533\n",
       "Name: 이용건수, dtype: int64"
      ]
     },
     "execution_count": 116,
     "metadata": {},
     "output_type": "execute_result"
    }
   ],
   "source": [
    "df_2020_20대 = df_2020[df_2020['연령대'] == 20].groupby('업종2')['이용건수'].sum()\n",
    "df_2020_20대\n",
    "# 숙박, 관광쇼핑, 체험 순으로 이용"
   ]
  },
  {
   "cell_type": "code",
   "execution_count": 117,
   "metadata": {},
   "outputs": [
    {
     "data": {
      "text/plain": [
       "연령대\n",
       "20    1112758\n",
       "30    2966840\n",
       "40    2371438\n",
       "50     909517\n",
       "60     525854\n",
       "Name: 이용건수, dtype: int64"
      ]
     },
     "execution_count": 117,
     "metadata": {},
     "output_type": "execute_result"
    }
   ],
   "source": [
    "df_2019_체험 = df_2019[df_2019['업종2'] == '체험'].groupby('연령대')['이용건수'].sum()\n",
    "df_2019_체험"
   ]
  },
  {
   "cell_type": "code",
   "execution_count": 118,
   "metadata": {},
   "outputs": [
    {
     "data": {
      "text/plain": [
       "업종2\n",
       "관광쇼핑     1932752\n",
       "교통      28685628\n",
       "숙박       6108128\n",
       "여행사       205043\n",
       "체험       1112758\n",
       "Name: 이용건수, dtype: int64"
      ]
     },
     "execution_count": 118,
     "metadata": {},
     "output_type": "execute_result"
    }
   ],
   "source": [
    "df_2019_20대 = df_2019[df_2019['연령대'] == 20].groupby('업종2')['이용건수'].sum()\n",
    "df_2019_20대"
   ]
  },
  {
   "cell_type": "code",
   "execution_count": 119,
   "metadata": {},
   "outputs": [],
   "source": [
    "df_2020_20대 = pd.DataFrame(df_2020_20대)"
   ]
  },
  {
   "cell_type": "code",
   "execution_count": 120,
   "metadata": {},
   "outputs": [],
   "source": [
    "df_2019_20대 = pd.DataFrame(df_2019_20대)"
   ]
  },
  {
   "cell_type": "code",
   "execution_count": 121,
   "metadata": {},
   "outputs": [],
   "source": [
    "df_20대 = pd.merge(df_2019_20대, df_2020_20대, on='업종2')"
   ]
  },
  {
   "cell_type": "code",
   "execution_count": 122,
   "metadata": {},
   "outputs": [
    {
     "data": {
      "text/html": [
       "<div>\n",
       "<style scoped>\n",
       "    .dataframe tbody tr th:only-of-type {\n",
       "        vertical-align: middle;\n",
       "    }\n",
       "\n",
       "    .dataframe tbody tr th {\n",
       "        vertical-align: top;\n",
       "    }\n",
       "\n",
       "    .dataframe thead th {\n",
       "        text-align: right;\n",
       "    }\n",
       "</style>\n",
       "<table border=\"1\" class=\"dataframe\">\n",
       "  <thead>\n",
       "    <tr style=\"text-align: right;\">\n",
       "      <th></th>\n",
       "      <th>이용건수_x</th>\n",
       "      <th>이용건수_y</th>\n",
       "      <th>ratio</th>\n",
       "    </tr>\n",
       "    <tr>\n",
       "      <th>업종2</th>\n",
       "      <th></th>\n",
       "      <th></th>\n",
       "      <th></th>\n",
       "    </tr>\n",
       "  </thead>\n",
       "  <tbody>\n",
       "    <tr>\n",
       "      <th>관광쇼핑</th>\n",
       "      <td>1932752</td>\n",
       "      <td>937793</td>\n",
       "      <td>-51.478876</td>\n",
       "    </tr>\n",
       "    <tr>\n",
       "      <th>교통</th>\n",
       "      <td>28685628</td>\n",
       "      <td>18217121</td>\n",
       "      <td>-36.493909</td>\n",
       "    </tr>\n",
       "    <tr>\n",
       "      <th>숙박</th>\n",
       "      <td>6108128</td>\n",
       "      <td>4583641</td>\n",
       "      <td>-24.958334</td>\n",
       "    </tr>\n",
       "    <tr>\n",
       "      <th>여행사</th>\n",
       "      <td>205043</td>\n",
       "      <td>89534</td>\n",
       "      <td>-56.334037</td>\n",
       "    </tr>\n",
       "    <tr>\n",
       "      <th>체험</th>\n",
       "      <td>1112758</td>\n",
       "      <td>785533</td>\n",
       "      <td>-29.406663</td>\n",
       "    </tr>\n",
       "  </tbody>\n",
       "</table>\n",
       "</div>"
      ],
      "text/plain": [
       "        이용건수_x    이용건수_y      ratio\n",
       "업종2                                \n",
       "관광쇼핑   1932752    937793 -51.478876\n",
       "교통    28685628  18217121 -36.493909\n",
       "숙박     6108128   4583641 -24.958334\n",
       "여행사     205043     89534 -56.334037\n",
       "체험     1112758    785533 -29.406663"
      ]
     },
     "execution_count": 122,
     "metadata": {},
     "output_type": "execute_result"
    }
   ],
   "source": [
    "ratio = []\n",
    "for i in range(len(df_20대)):\n",
    "    ratio.append(((df_20대['이용건수_y'][i] - df_20대['이용건수_x'][i])/df_20대['이용건수_x'][i])*100)\n",
    "\n",
    "df_20대['ratio'] = ratio\n",
    "df_20대"
   ]
  },
  {
   "cell_type": "code",
   "execution_count": 123,
   "metadata": {},
   "outputs": [],
   "source": [
    "df_2019_30대 = df_2019[df_2019['연령대'] == 30].groupby('업종2')['이용건수'].sum()\n",
    "df_2019_30대\n",
    "df_2019_30대 = pd.DataFrame(df_2019_20대)"
   ]
  },
  {
   "cell_type": "code",
   "execution_count": 124,
   "metadata": {},
   "outputs": [],
   "source": [
    "df_2020_30대 = df_2020[df_2020['연령대'] == 30].groupby('업종2')['이용건수'].sum()\n",
    "df_2020_30대\n",
    "df_2020_30대 = pd.DataFrame(df_2020_30대)"
   ]
  },
  {
   "cell_type": "code",
   "execution_count": 125,
   "metadata": {
    "scrolled": true
   },
   "outputs": [
    {
     "data": {
      "text/html": [
       "<div>\n",
       "<style scoped>\n",
       "    .dataframe tbody tr th:only-of-type {\n",
       "        vertical-align: middle;\n",
       "    }\n",
       "\n",
       "    .dataframe tbody tr th {\n",
       "        vertical-align: top;\n",
       "    }\n",
       "\n",
       "    .dataframe thead th {\n",
       "        text-align: right;\n",
       "    }\n",
       "</style>\n",
       "<table border=\"1\" class=\"dataframe\">\n",
       "  <thead>\n",
       "    <tr style=\"text-align: right;\">\n",
       "      <th></th>\n",
       "      <th>이용건수_x</th>\n",
       "      <th>이용건수_y</th>\n",
       "      <th>ratio</th>\n",
       "    </tr>\n",
       "    <tr>\n",
       "      <th>업종2</th>\n",
       "      <th></th>\n",
       "      <th></th>\n",
       "      <th></th>\n",
       "    </tr>\n",
       "  </thead>\n",
       "  <tbody>\n",
       "    <tr>\n",
       "      <th>관광쇼핑</th>\n",
       "      <td>1932752</td>\n",
       "      <td>1099106</td>\n",
       "      <td>-43.132590</td>\n",
       "    </tr>\n",
       "    <tr>\n",
       "      <th>교통</th>\n",
       "      <td>28685628</td>\n",
       "      <td>12986193</td>\n",
       "      <td>-54.729271</td>\n",
       "    </tr>\n",
       "    <tr>\n",
       "      <th>숙박</th>\n",
       "      <td>6108128</td>\n",
       "      <td>4876773</td>\n",
       "      <td>-20.159286</td>\n",
       "    </tr>\n",
       "    <tr>\n",
       "      <th>여행사</th>\n",
       "      <td>205043</td>\n",
       "      <td>160242</td>\n",
       "      <td>-21.849563</td>\n",
       "    </tr>\n",
       "    <tr>\n",
       "      <th>체험</th>\n",
       "      <td>1112758</td>\n",
       "      <td>1874386</td>\n",
       "      <td>68.445071</td>\n",
       "    </tr>\n",
       "  </tbody>\n",
       "</table>\n",
       "</div>"
      ],
      "text/plain": [
       "        이용건수_x    이용건수_y      ratio\n",
       "업종2                                \n",
       "관광쇼핑   1932752   1099106 -43.132590\n",
       "교통    28685628  12986193 -54.729271\n",
       "숙박     6108128   4876773 -20.159286\n",
       "여행사     205043    160242 -21.849563\n",
       "체험     1112758   1874386  68.445071"
      ]
     },
     "execution_count": 125,
     "metadata": {},
     "output_type": "execute_result"
    }
   ],
   "source": [
    "df_30대 = pd.merge(df_2019_30대, df_2020_30대, on='업종2')\n",
    "ratio = []\n",
    "for i in range(len(df_30대)):\n",
    "    ratio.append(((df_30대['이용건수_y'][i] - df_30대['이용건수_x'][i])/df_30대['이용건수_x'][i])*100)\n",
    "\n",
    "df_30대['ratio'] = ratio\n",
    "df_30대"
   ]
  },
  {
   "cell_type": "code",
   "execution_count": 126,
   "metadata": {},
   "outputs": [
    {
     "data": {
      "text/html": [
       "<div>\n",
       "<style scoped>\n",
       "    .dataframe tbody tr th:only-of-type {\n",
       "        vertical-align: middle;\n",
       "    }\n",
       "\n",
       "    .dataframe tbody tr th {\n",
       "        vertical-align: top;\n",
       "    }\n",
       "\n",
       "    .dataframe thead th {\n",
       "        text-align: right;\n",
       "    }\n",
       "</style>\n",
       "<table border=\"1\" class=\"dataframe\">\n",
       "  <thead>\n",
       "    <tr style=\"text-align: right;\">\n",
       "      <th></th>\n",
       "      <th>이용건수_x</th>\n",
       "      <th>이용건수_y</th>\n",
       "      <th>ratio</th>\n",
       "    </tr>\n",
       "    <tr>\n",
       "      <th>업종2</th>\n",
       "      <th></th>\n",
       "      <th></th>\n",
       "      <th></th>\n",
       "    </tr>\n",
       "  </thead>\n",
       "  <tbody>\n",
       "    <tr>\n",
       "      <th>관광쇼핑</th>\n",
       "      <td>2700290</td>\n",
       "      <td>1087981</td>\n",
       "      <td>-59.708735</td>\n",
       "    </tr>\n",
       "    <tr>\n",
       "      <th>교통</th>\n",
       "      <td>19297298</td>\n",
       "      <td>11461726</td>\n",
       "      <td>-40.604503</td>\n",
       "    </tr>\n",
       "    <tr>\n",
       "      <th>숙박</th>\n",
       "      <td>6112254</td>\n",
       "      <td>4693017</td>\n",
       "      <td>-23.219536</td>\n",
       "    </tr>\n",
       "    <tr>\n",
       "      <th>여행사</th>\n",
       "      <td>375363</td>\n",
       "      <td>169071</td>\n",
       "      <td>-54.958001</td>\n",
       "    </tr>\n",
       "    <tr>\n",
       "      <th>체험</th>\n",
       "      <td>2371438</td>\n",
       "      <td>1485948</td>\n",
       "      <td>-37.339791</td>\n",
       "    </tr>\n",
       "  </tbody>\n",
       "</table>\n",
       "</div>"
      ],
      "text/plain": [
       "        이용건수_x    이용건수_y      ratio\n",
       "업종2                                \n",
       "관광쇼핑   2700290   1087981 -59.708735\n",
       "교통    19297298  11461726 -40.604503\n",
       "숙박     6112254   4693017 -23.219536\n",
       "여행사     375363    169071 -54.958001\n",
       "체험     2371438   1485948 -37.339791"
      ]
     },
     "execution_count": 126,
     "metadata": {},
     "output_type": "execute_result"
    }
   ],
   "source": [
    "df_2019_40대 = df_2019[df_2019['연령대'] == 40].groupby('업종2')['이용건수'].sum()\n",
    "df_2019_40대\n",
    "df_2019_40대 = pd.DataFrame(df_2019_40대)\n",
    "\n",
    "df_2020_40대 = df_2020[df_2020['연령대'] == 40].groupby('업종2')['이용건수'].sum()\n",
    "df_2020_40대\n",
    "df_2020_40대 = pd.DataFrame(df_2020_40대)\n",
    "\n",
    "df_40대 = pd.merge(df_2019_40대, df_2020_40대, on='업종2')\n",
    "ratio = []\n",
    "for i in range(len(df_40대)):\n",
    "    ratio.append(((df_40대['이용건수_y'][i] - df_40대['이용건수_x'][i])/df_40대['이용건수_x'][i])*100)\n",
    "\n",
    "df_40대['ratio'] = ratio\n",
    "df_40대"
   ]
  },
  {
   "cell_type": "code",
   "execution_count": 127,
   "metadata": {},
   "outputs": [
    {
     "data": {
      "text/html": [
       "<div>\n",
       "<style scoped>\n",
       "    .dataframe tbody tr th:only-of-type {\n",
       "        vertical-align: middle;\n",
       "    }\n",
       "\n",
       "    .dataframe tbody tr th {\n",
       "        vertical-align: top;\n",
       "    }\n",
       "\n",
       "    .dataframe thead th {\n",
       "        text-align: right;\n",
       "    }\n",
       "</style>\n",
       "<table border=\"1\" class=\"dataframe\">\n",
       "  <thead>\n",
       "    <tr style=\"text-align: right;\">\n",
       "      <th></th>\n",
       "      <th>이용건수_x</th>\n",
       "      <th>이용건수_y</th>\n",
       "      <th>ratio</th>\n",
       "    </tr>\n",
       "    <tr>\n",
       "      <th>업종2</th>\n",
       "      <th></th>\n",
       "      <th></th>\n",
       "      <th></th>\n",
       "    </tr>\n",
       "  </thead>\n",
       "  <tbody>\n",
       "    <tr>\n",
       "      <th>관광쇼핑</th>\n",
       "      <td>2010670</td>\n",
       "      <td>838731</td>\n",
       "      <td>-58.285994</td>\n",
       "    </tr>\n",
       "    <tr>\n",
       "      <th>교통</th>\n",
       "      <td>17974408</td>\n",
       "      <td>11237162</td>\n",
       "      <td>-37.482436</td>\n",
       "    </tr>\n",
       "    <tr>\n",
       "      <th>숙박</th>\n",
       "      <td>3877876</td>\n",
       "      <td>3218952</td>\n",
       "      <td>-16.991879</td>\n",
       "    </tr>\n",
       "    <tr>\n",
       "      <th>여행사</th>\n",
       "      <td>317401</td>\n",
       "      <td>129707</td>\n",
       "      <td>-59.134659</td>\n",
       "    </tr>\n",
       "    <tr>\n",
       "      <th>체험</th>\n",
       "      <td>909517</td>\n",
       "      <td>643771</td>\n",
       "      <td>-29.218365</td>\n",
       "    </tr>\n",
       "  </tbody>\n",
       "</table>\n",
       "</div>"
      ],
      "text/plain": [
       "        이용건수_x    이용건수_y      ratio\n",
       "업종2                                \n",
       "관광쇼핑   2010670    838731 -58.285994\n",
       "교통    17974408  11237162 -37.482436\n",
       "숙박     3877876   3218952 -16.991879\n",
       "여행사     317401    129707 -59.134659\n",
       "체험      909517    643771 -29.218365"
      ]
     },
     "execution_count": 127,
     "metadata": {},
     "output_type": "execute_result"
    }
   ],
   "source": [
    "df_2019_50대 = df_2019[df_2019['연령대'] == 50].groupby('업종2')['이용건수'].sum()\n",
    "df_2019_50대\n",
    "df_2019_50대 = pd.DataFrame(df_2019_50대)\n",
    "\n",
    "df_2020_50대 = df_2020[df_2020['연령대'] == 50].groupby('업종2')['이용건수'].sum()\n",
    "df_2020_50대\n",
    "df_2020_50대 = pd.DataFrame(df_2020_50대)\n",
    "\n",
    "df_50대 = pd.merge(df_2019_50대, df_2020_50대, on='업종2')\n",
    "ratio = []\n",
    "for i in range(len(df_50대)):\n",
    "    ratio.append(((df_50대['이용건수_y'][i] - df_50대['이용건수_x'][i])/df_50대['이용건수_x'][i])*100)\n",
    "\n",
    "df_50대['ratio'] = ratio\n",
    "df_50대"
   ]
  },
  {
   "cell_type": "code",
   "execution_count": 128,
   "metadata": {},
   "outputs": [
    {
     "data": {
      "text/html": [
       "<div>\n",
       "<style scoped>\n",
       "    .dataframe tbody tr th:only-of-type {\n",
       "        vertical-align: middle;\n",
       "    }\n",
       "\n",
       "    .dataframe tbody tr th {\n",
       "        vertical-align: top;\n",
       "    }\n",
       "\n",
       "    .dataframe thead th {\n",
       "        text-align: right;\n",
       "    }\n",
       "</style>\n",
       "<table border=\"1\" class=\"dataframe\">\n",
       "  <thead>\n",
       "    <tr style=\"text-align: right;\">\n",
       "      <th></th>\n",
       "      <th>30F_20</th>\n",
       "      <th>30M_20</th>\n",
       "    </tr>\n",
       "    <tr>\n",
       "      <th>업종2</th>\n",
       "      <th></th>\n",
       "      <th></th>\n",
       "    </tr>\n",
       "  </thead>\n",
       "  <tbody>\n",
       "    <tr>\n",
       "      <th>관광쇼핑</th>\n",
       "      <td>510721</td>\n",
       "      <td>588385</td>\n",
       "    </tr>\n",
       "    <tr>\n",
       "      <th>교통</th>\n",
       "      <td>6218075</td>\n",
       "      <td>6768118</td>\n",
       "    </tr>\n",
       "    <tr>\n",
       "      <th>숙박</th>\n",
       "      <td>1456431</td>\n",
       "      <td>3420342</td>\n",
       "    </tr>\n",
       "    <tr>\n",
       "      <th>여행사</th>\n",
       "      <td>61697</td>\n",
       "      <td>98545</td>\n",
       "    </tr>\n",
       "    <tr>\n",
       "      <th>체험</th>\n",
       "      <td>798881</td>\n",
       "      <td>1075505</td>\n",
       "    </tr>\n",
       "  </tbody>\n",
       "</table>\n",
       "</div>"
      ],
      "text/plain": [
       "       30F_20   30M_20\n",
       "업종2                   \n",
       "관광쇼핑   510721   588385\n",
       "교통    6218075  6768118\n",
       "숙박    1456431  3420342\n",
       "여행사     61697    98545\n",
       "체험     798881  1075505"
      ]
     },
     "execution_count": 128,
     "metadata": {},
     "output_type": "execute_result"
    }
   ],
   "source": [
    "df_30_남 = df_2020[df_2020['연령대'] == 30]\n",
    "df_30_남 = df_30_남[df_30_남['성별'] == 'M'].groupby('업종2')['이용건수'].sum()\n",
    "df_30_남 = pd.DataFrame(df_30_남)\n",
    "\n",
    "df_30_여 = df_2020[df_2020['연령대'] == 30]\n",
    "df_30_여 = df_30_여[df_30_여['성별'] == 'F'].groupby('업종2')['이용건수'].sum()\n",
    "df_30_여 = pd.DataFrame(df_30_여)\n",
    "\n",
    "df_30_sex = pd.merge(df_30_여, df_30_남, on='업종2')\n",
    "df_30_sex.columns = ['30F_20', '30M_20']\n",
    "df_30_sex"
   ]
  },
  {
   "cell_type": "code",
   "execution_count": 129,
   "metadata": {},
   "outputs": [
    {
     "data": {
      "text/html": [
       "<div>\n",
       "<style scoped>\n",
       "    .dataframe tbody tr th:only-of-type {\n",
       "        vertical-align: middle;\n",
       "    }\n",
       "\n",
       "    .dataframe tbody tr th {\n",
       "        vertical-align: top;\n",
       "    }\n",
       "\n",
       "    .dataframe thead th {\n",
       "        text-align: right;\n",
       "    }\n",
       "</style>\n",
       "<table border=\"1\" class=\"dataframe\">\n",
       "  <thead>\n",
       "    <tr style=\"text-align: right;\">\n",
       "      <th></th>\n",
       "      <th>20F_20</th>\n",
       "      <th>20M_20</th>\n",
       "    </tr>\n",
       "    <tr>\n",
       "      <th>업종2</th>\n",
       "      <th></th>\n",
       "      <th></th>\n",
       "    </tr>\n",
       "  </thead>\n",
       "  <tbody>\n",
       "    <tr>\n",
       "      <th>관광쇼핑</th>\n",
       "      <td>553599</td>\n",
       "      <td>384194</td>\n",
       "    </tr>\n",
       "    <tr>\n",
       "      <th>교통</th>\n",
       "      <td>9763935</td>\n",
       "      <td>8453186</td>\n",
       "    </tr>\n",
       "    <tr>\n",
       "      <th>숙박</th>\n",
       "      <td>1587567</td>\n",
       "      <td>2996074</td>\n",
       "    </tr>\n",
       "    <tr>\n",
       "      <th>여행사</th>\n",
       "      <td>42991</td>\n",
       "      <td>46543</td>\n",
       "    </tr>\n",
       "    <tr>\n",
       "      <th>체험</th>\n",
       "      <td>380538</td>\n",
       "      <td>404995</td>\n",
       "    </tr>\n",
       "  </tbody>\n",
       "</table>\n",
       "</div>"
      ],
      "text/plain": [
       "       20F_20   20M_20\n",
       "업종2                   \n",
       "관광쇼핑   553599   384194\n",
       "교통    9763935  8453186\n",
       "숙박    1587567  2996074\n",
       "여행사     42991    46543\n",
       "체험     380538   404995"
      ]
     },
     "execution_count": 129,
     "metadata": {},
     "output_type": "execute_result"
    }
   ],
   "source": [
    "df_20_남 = df_2020[df_2020['연령대'] == 20]\n",
    "df_20_남 = df_20_남[df_20_남['성별'] == 'M'].groupby('업종2')['이용건수'].sum()\n",
    "df_20_남 = pd.DataFrame(df_20_남)\n",
    "\n",
    "df_20_여 = df_2020[df_2020['연령대'] == 20]\n",
    "df_20_여 = df_20_여[df_20_여['성별'] == 'F'].groupby('업종2')['이용건수'].sum()\n",
    "df_20_여 = pd.DataFrame(df_20_여)\n",
    "\n",
    "df_20_sex = pd.merge(df_20_여, df_20_남, on='업종2')\n",
    "df_20_sex.columns = ['20F_20', '20M_20']\n",
    "df_20_sex"
   ]
  },
  {
   "cell_type": "code",
   "execution_count": 130,
   "metadata": {},
   "outputs": [
    {
     "data": {
      "text/html": [
       "<div>\n",
       "<style scoped>\n",
       "    .dataframe tbody tr th:only-of-type {\n",
       "        vertical-align: middle;\n",
       "    }\n",
       "\n",
       "    .dataframe tbody tr th {\n",
       "        vertical-align: top;\n",
       "    }\n",
       "\n",
       "    .dataframe thead th {\n",
       "        text-align: right;\n",
       "    }\n",
       "</style>\n",
       "<table border=\"1\" class=\"dataframe\">\n",
       "  <thead>\n",
       "    <tr style=\"text-align: right;\">\n",
       "      <th></th>\n",
       "      <th>40F_20</th>\n",
       "      <th>40M_20</th>\n",
       "    </tr>\n",
       "    <tr>\n",
       "      <th>업종2</th>\n",
       "      <th></th>\n",
       "      <th></th>\n",
       "    </tr>\n",
       "  </thead>\n",
       "  <tbody>\n",
       "    <tr>\n",
       "      <th>관광쇼핑</th>\n",
       "      <td>490496</td>\n",
       "      <td>597485</td>\n",
       "    </tr>\n",
       "    <tr>\n",
       "      <th>교통</th>\n",
       "      <td>5320593</td>\n",
       "      <td>6141133</td>\n",
       "    </tr>\n",
       "    <tr>\n",
       "      <th>숙박</th>\n",
       "      <td>1385315</td>\n",
       "      <td>3307702</td>\n",
       "    </tr>\n",
       "    <tr>\n",
       "      <th>여행사</th>\n",
       "      <td>68104</td>\n",
       "      <td>100967</td>\n",
       "    </tr>\n",
       "    <tr>\n",
       "      <th>체험</th>\n",
       "      <td>555828</td>\n",
       "      <td>930120</td>\n",
       "    </tr>\n",
       "  </tbody>\n",
       "</table>\n",
       "</div>"
      ],
      "text/plain": [
       "       40F_20   40M_20\n",
       "업종2                   \n",
       "관광쇼핑   490496   597485\n",
       "교통    5320593  6141133\n",
       "숙박    1385315  3307702\n",
       "여행사     68104   100967\n",
       "체험     555828   930120"
      ]
     },
     "execution_count": 130,
     "metadata": {},
     "output_type": "execute_result"
    }
   ],
   "source": [
    "df_40_남 = df_2020[df_2020['연령대'] == 40]\n",
    "df_40_남 = df_40_남[df_40_남['성별'] == 'M'].groupby('업종2')['이용건수'].sum()\n",
    "df_40_남 = pd.DataFrame(df_40_남)\n",
    "\n",
    "df_40_여 = df_2020[df_2020['연령대'] == 40]\n",
    "df_40_여 = df_40_여[df_40_여['성별'] == 'F'].groupby('업종2')['이용건수'].sum()\n",
    "df_40_여 = pd.DataFrame(df_40_여)\n",
    "\n",
    "df_40_sex = pd.merge(df_40_여, df_40_남, on='업종2')\n",
    "df_40_sex.columns = ['40F_20', '40M_20']\n",
    "df_40_sex"
   ]
  },
  {
   "cell_type": "code",
   "execution_count": 131,
   "metadata": {},
   "outputs": [
    {
     "data": {
      "text/html": [
       "<div>\n",
       "<style scoped>\n",
       "    .dataframe tbody tr th:only-of-type {\n",
       "        vertical-align: middle;\n",
       "    }\n",
       "\n",
       "    .dataframe tbody tr th {\n",
       "        vertical-align: top;\n",
       "    }\n",
       "\n",
       "    .dataframe thead th {\n",
       "        text-align: right;\n",
       "    }\n",
       "</style>\n",
       "<table border=\"1\" class=\"dataframe\">\n",
       "  <thead>\n",
       "    <tr style=\"text-align: right;\">\n",
       "      <th></th>\n",
       "      <th>50F_20</th>\n",
       "      <th>50M_20</th>\n",
       "    </tr>\n",
       "    <tr>\n",
       "      <th>업종2</th>\n",
       "      <th></th>\n",
       "      <th></th>\n",
       "    </tr>\n",
       "  </thead>\n",
       "  <tbody>\n",
       "    <tr>\n",
       "      <th>관광쇼핑</th>\n",
       "      <td>392408</td>\n",
       "      <td>446323</td>\n",
       "    </tr>\n",
       "    <tr>\n",
       "      <th>교통</th>\n",
       "      <td>5014617</td>\n",
       "      <td>6222545</td>\n",
       "    </tr>\n",
       "    <tr>\n",
       "      <th>숙박</th>\n",
       "      <td>895110</td>\n",
       "      <td>2323842</td>\n",
       "    </tr>\n",
       "    <tr>\n",
       "      <th>여행사</th>\n",
       "      <td>57038</td>\n",
       "      <td>72669</td>\n",
       "    </tr>\n",
       "    <tr>\n",
       "      <th>체험</th>\n",
       "      <td>259020</td>\n",
       "      <td>384751</td>\n",
       "    </tr>\n",
       "  </tbody>\n",
       "</table>\n",
       "</div>"
      ],
      "text/plain": [
       "       50F_20   50M_20\n",
       "업종2                   \n",
       "관광쇼핑   392408   446323\n",
       "교통    5014617  6222545\n",
       "숙박     895110  2323842\n",
       "여행사     57038    72669\n",
       "체험     259020   384751"
      ]
     },
     "execution_count": 131,
     "metadata": {},
     "output_type": "execute_result"
    }
   ],
   "source": [
    "df_50_남 = df_2020[df_2020['연령대'] == 50]\n",
    "df_50_남 = df_50_남[df_50_남['성별'] == 'M'].groupby('업종2')['이용건수'].sum()\n",
    "df_50_남 = pd.DataFrame(df_50_남)\n",
    "\n",
    "df_50_여 = df_2020[df_2020['연령대'] == 50]\n",
    "df_50_여 = df_50_여[df_50_여['성별'] == 'F'].groupby('업종2')['이용건수'].sum()\n",
    "df_50_여 = pd.DataFrame(df_50_여)\n",
    "\n",
    "df_50_sex = pd.merge(df_50_여, df_50_남, on='업종2')\n",
    "df_50_sex.columns = ['50F_20', '50M_20']\n",
    "df_50_sex"
   ]
  },
  {
   "cell_type": "code",
   "execution_count": 132,
   "metadata": {},
   "outputs": [
    {
     "data": {
      "text/html": [
       "<div>\n",
       "<style scoped>\n",
       "    .dataframe tbody tr th:only-of-type {\n",
       "        vertical-align: middle;\n",
       "    }\n",
       "\n",
       "    .dataframe tbody tr th {\n",
       "        vertical-align: top;\n",
       "    }\n",
       "\n",
       "    .dataframe thead th {\n",
       "        text-align: right;\n",
       "    }\n",
       "</style>\n",
       "<table border=\"1\" class=\"dataframe\">\n",
       "  <thead>\n",
       "    <tr style=\"text-align: right;\">\n",
       "      <th></th>\n",
       "      <th>60F_20</th>\n",
       "      <th>60M_20</th>\n",
       "    </tr>\n",
       "    <tr>\n",
       "      <th>업종2</th>\n",
       "      <th></th>\n",
       "      <th></th>\n",
       "    </tr>\n",
       "  </thead>\n",
       "  <tbody>\n",
       "    <tr>\n",
       "      <th>관광쇼핑</th>\n",
       "      <td>163641</td>\n",
       "      <td>446323</td>\n",
       "    </tr>\n",
       "    <tr>\n",
       "      <th>교통</th>\n",
       "      <td>2236559</td>\n",
       "      <td>6222545</td>\n",
       "    </tr>\n",
       "    <tr>\n",
       "      <th>숙박</th>\n",
       "      <td>490534</td>\n",
       "      <td>2323842</td>\n",
       "    </tr>\n",
       "    <tr>\n",
       "      <th>여행사</th>\n",
       "      <td>34410</td>\n",
       "      <td>72669</td>\n",
       "    </tr>\n",
       "    <tr>\n",
       "      <th>체험</th>\n",
       "      <td>148414</td>\n",
       "      <td>384751</td>\n",
       "    </tr>\n",
       "  </tbody>\n",
       "</table>\n",
       "</div>"
      ],
      "text/plain": [
       "       60F_20   60M_20\n",
       "업종2                   \n",
       "관광쇼핑   163641   446323\n",
       "교통    2236559  6222545\n",
       "숙박     490534  2323842\n",
       "여행사     34410    72669\n",
       "체험     148414   384751"
      ]
     },
     "execution_count": 132,
     "metadata": {},
     "output_type": "execute_result"
    }
   ],
   "source": [
    "df_60_남 = df_2020[df_2020['연령대'] == 60]\n",
    "df_60_남 = df_60_남[df_60_남['성별'] == 'M'].groupby('업종2')['이용건수'].sum()\n",
    "df_60_남 = pd.DataFrame(df_50_남)\n",
    "\n",
    "df_60_여 = df_2020[df_2020['연령대'] == 60]\n",
    "df_60_여 = df_60_여[df_60_여['성별'] == 'F'].groupby('업종2')['이용건수'].sum()\n",
    "df_60_여 = pd.DataFrame(df_60_여)\n",
    "\n",
    "df_60_sex = pd.merge(df_60_여, df_60_남, on='업종2')\n",
    "df_60_sex.columns = ['60F_20', '60M_20']\n",
    "df_60_sex"
   ]
  },
  {
   "cell_type": "code",
   "execution_count": 135,
   "metadata": {},
   "outputs": [
    {
     "data": {
      "text/html": [
       "<div>\n",
       "<style scoped>\n",
       "    .dataframe tbody tr th:only-of-type {\n",
       "        vertical-align: middle;\n",
       "    }\n",
       "\n",
       "    .dataframe tbody tr th {\n",
       "        vertical-align: top;\n",
       "    }\n",
       "\n",
       "    .dataframe thead th {\n",
       "        text-align: right;\n",
       "    }\n",
       "</style>\n",
       "<table border=\"1\" class=\"dataframe\">\n",
       "  <thead>\n",
       "    <tr style=\"text-align: right;\">\n",
       "      <th></th>\n",
       "      <th>20F_19</th>\n",
       "      <th>20M_19</th>\n",
       "    </tr>\n",
       "    <tr>\n",
       "      <th>업종2</th>\n",
       "      <th></th>\n",
       "      <th></th>\n",
       "    </tr>\n",
       "  </thead>\n",
       "  <tbody>\n",
       "    <tr>\n",
       "      <th>관광쇼핑</th>\n",
       "      <td>1201062</td>\n",
       "      <td>731690</td>\n",
       "    </tr>\n",
       "    <tr>\n",
       "      <th>교통</th>\n",
       "      <td>14905724</td>\n",
       "      <td>13779904</td>\n",
       "    </tr>\n",
       "    <tr>\n",
       "      <th>숙박</th>\n",
       "      <td>2022764</td>\n",
       "      <td>4085364</td>\n",
       "    </tr>\n",
       "    <tr>\n",
       "      <th>여행사</th>\n",
       "      <td>112096</td>\n",
       "      <td>92947</td>\n",
       "    </tr>\n",
       "    <tr>\n",
       "      <th>체험</th>\n",
       "      <td>547812</td>\n",
       "      <td>564946</td>\n",
       "    </tr>\n",
       "  </tbody>\n",
       "</table>\n",
       "</div>"
      ],
      "text/plain": [
       "        20F_19    20M_19\n",
       "업종2                     \n",
       "관광쇼핑   1201062    731690\n",
       "교통    14905724  13779904\n",
       "숙박     2022764   4085364\n",
       "여행사     112096     92947\n",
       "체험      547812    564946"
      ]
     },
     "execution_count": 135,
     "metadata": {},
     "output_type": "execute_result"
    }
   ],
   "source": [
    "df19_20_남 = df_2019[df_2019['연령대'] == 20]\n",
    "df19_20_남 = df19_20_남[df19_20_남['성별'] == 'M'].groupby('업종2')['이용건수'].sum()\n",
    "df19_20_남 = pd.DataFrame(df19_20_남)\n",
    "\n",
    "df19_20_여 = df_2019[df_2019['연령대'] == 20]\n",
    "df19_20_여 = df19_20_여[df19_20_여['성별'] == 'F'].groupby('업종2')['이용건수'].sum()\n",
    "df19_20_여 = pd.DataFrame(df19_20_여)\n",
    "\n",
    "df19_20_sex = pd.merge(df19_20_여, df19_20_남, on='업종2')\n",
    "df19_20_sex.columns = ['20F_19', '20M_19']\n",
    "df19_20_sex"
   ]
  },
  {
   "cell_type": "code",
   "execution_count": 136,
   "metadata": {},
   "outputs": [
    {
     "data": {
      "text/html": [
       "<div>\n",
       "<style scoped>\n",
       "    .dataframe tbody tr th:only-of-type {\n",
       "        vertical-align: middle;\n",
       "    }\n",
       "\n",
       "    .dataframe tbody tr th {\n",
       "        vertical-align: top;\n",
       "    }\n",
       "\n",
       "    .dataframe thead th {\n",
       "        text-align: right;\n",
       "    }\n",
       "</style>\n",
       "<table border=\"1\" class=\"dataframe\">\n",
       "  <thead>\n",
       "    <tr style=\"text-align: right;\">\n",
       "      <th></th>\n",
       "      <th>30F_19</th>\n",
       "      <th>30M_19</th>\n",
       "    </tr>\n",
       "    <tr>\n",
       "      <th>업종2</th>\n",
       "      <th></th>\n",
       "      <th></th>\n",
       "    </tr>\n",
       "  </thead>\n",
       "  <tbody>\n",
       "    <tr>\n",
       "      <th>관광쇼핑</th>\n",
       "      <td>1378625</td>\n",
       "      <td>1428693</td>\n",
       "    </tr>\n",
       "    <tr>\n",
       "      <th>교통</th>\n",
       "      <td>10068282</td>\n",
       "      <td>10324072</td>\n",
       "    </tr>\n",
       "    <tr>\n",
       "      <th>숙박</th>\n",
       "      <td>2021298</td>\n",
       "      <td>4422918</td>\n",
       "    </tr>\n",
       "    <tr>\n",
       "      <th>여행사</th>\n",
       "      <td>143418</td>\n",
       "      <td>179468</td>\n",
       "    </tr>\n",
       "    <tr>\n",
       "      <th>체험</th>\n",
       "      <td>1316847</td>\n",
       "      <td>1649993</td>\n",
       "    </tr>\n",
       "  </tbody>\n",
       "</table>\n",
       "</div>"
      ],
      "text/plain": [
       "        30F_19    30M_19\n",
       "업종2                     \n",
       "관광쇼핑   1378625   1428693\n",
       "교통    10068282  10324072\n",
       "숙박     2021298   4422918\n",
       "여행사     143418    179468\n",
       "체험     1316847   1649993"
      ]
     },
     "execution_count": 136,
     "metadata": {},
     "output_type": "execute_result"
    }
   ],
   "source": [
    "df19_30_남 = df_2019[df_2019['연령대'] == 30]\n",
    "df19_30_남 = df19_30_남[df19_30_남['성별'] == 'M'].groupby('업종2')['이용건수'].sum()\n",
    "df19_30_남 = pd.DataFrame(df19_30_남)\n",
    "\n",
    "df19_30_여 = df_2019[df_2019['연령대'] == 30]\n",
    "df19_30_여 = df19_30_여[df19_30_여['성별'] == 'F'].groupby('업종2')['이용건수'].sum()\n",
    "df19_30_여 = pd.DataFrame(df19_30_여)\n",
    "\n",
    "df19_30_sex = pd.merge(df19_30_여, df19_30_남, on='업종2')\n",
    "df19_30_sex.columns = ['30F_19', '30M_19']\n",
    "df19_30_sex"
   ]
  },
  {
   "cell_type": "code",
   "execution_count": 137,
   "metadata": {},
   "outputs": [
    {
     "data": {
      "text/html": [
       "<div>\n",
       "<style scoped>\n",
       "    .dataframe tbody tr th:only-of-type {\n",
       "        vertical-align: middle;\n",
       "    }\n",
       "\n",
       "    .dataframe tbody tr th {\n",
       "        vertical-align: top;\n",
       "    }\n",
       "\n",
       "    .dataframe thead th {\n",
       "        text-align: right;\n",
       "    }\n",
       "</style>\n",
       "<table border=\"1\" class=\"dataframe\">\n",
       "  <thead>\n",
       "    <tr style=\"text-align: right;\">\n",
       "      <th></th>\n",
       "      <th>40F_19</th>\n",
       "      <th>40M_19</th>\n",
       "    </tr>\n",
       "    <tr>\n",
       "      <th>업종2</th>\n",
       "      <th></th>\n",
       "      <th></th>\n",
       "    </tr>\n",
       "  </thead>\n",
       "  <tbody>\n",
       "    <tr>\n",
       "      <th>관광쇼핑</th>\n",
       "      <td>1238839</td>\n",
       "      <td>1461451</td>\n",
       "    </tr>\n",
       "    <tr>\n",
       "      <th>교통</th>\n",
       "      <td>9302444</td>\n",
       "      <td>9994854</td>\n",
       "    </tr>\n",
       "    <tr>\n",
       "      <th>숙박</th>\n",
       "      <td>1860591</td>\n",
       "      <td>4251663</td>\n",
       "    </tr>\n",
       "    <tr>\n",
       "      <th>여행사</th>\n",
       "      <td>180726</td>\n",
       "      <td>194637</td>\n",
       "    </tr>\n",
       "    <tr>\n",
       "      <th>체험</th>\n",
       "      <td>909134</td>\n",
       "      <td>1462304</td>\n",
       "    </tr>\n",
       "  </tbody>\n",
       "</table>\n",
       "</div>"
      ],
      "text/plain": [
       "       40F_19   40M_19\n",
       "업종2                   \n",
       "관광쇼핑  1238839  1461451\n",
       "교통    9302444  9994854\n",
       "숙박    1860591  4251663\n",
       "여행사    180726   194637\n",
       "체험     909134  1462304"
      ]
     },
     "execution_count": 137,
     "metadata": {},
     "output_type": "execute_result"
    }
   ],
   "source": [
    "df19_40_남 = df_2019[df_2019['연령대'] == 40]\n",
    "df19_40_남 = df19_40_남[df19_40_남['성별'] == 'M'].groupby('업종2')['이용건수'].sum()\n",
    "df19_40_남 = pd.DataFrame(df19_40_남)\n",
    "\n",
    "df19_40_여 = df_2019[df_2019['연령대'] == 40]\n",
    "df19_40_여 = df19_40_여[df19_40_여['성별'] == 'F'].groupby('업종2')['이용건수'].sum()\n",
    "df19_40_여 = pd.DataFrame(df19_40_여)\n",
    "\n",
    "df19_40_sex = pd.merge(df19_40_여, df19_40_남, on='업종2')\n",
    "df19_40_sex.columns = ['40F_19', '40M_19']\n",
    "df19_40_sex"
   ]
  },
  {
   "cell_type": "code",
   "execution_count": 138,
   "metadata": {},
   "outputs": [
    {
     "data": {
      "text/html": [
       "<div>\n",
       "<style scoped>\n",
       "    .dataframe tbody tr th:only-of-type {\n",
       "        vertical-align: middle;\n",
       "    }\n",
       "\n",
       "    .dataframe tbody tr th {\n",
       "        vertical-align: top;\n",
       "    }\n",
       "\n",
       "    .dataframe thead th {\n",
       "        text-align: right;\n",
       "    }\n",
       "</style>\n",
       "<table border=\"1\" class=\"dataframe\">\n",
       "  <thead>\n",
       "    <tr style=\"text-align: right;\">\n",
       "      <th></th>\n",
       "      <th>50F_19</th>\n",
       "      <th>50M_19</th>\n",
       "    </tr>\n",
       "    <tr>\n",
       "      <th>업종2</th>\n",
       "      <th></th>\n",
       "      <th></th>\n",
       "    </tr>\n",
       "  </thead>\n",
       "  <tbody>\n",
       "    <tr>\n",
       "      <th>관광쇼핑</th>\n",
       "      <td>1007596</td>\n",
       "      <td>1003074</td>\n",
       "    </tr>\n",
       "    <tr>\n",
       "      <th>교통</th>\n",
       "      <td>8385756</td>\n",
       "      <td>9588652</td>\n",
       "    </tr>\n",
       "    <tr>\n",
       "      <th>숙박</th>\n",
       "      <td>1142123</td>\n",
       "      <td>2735753</td>\n",
       "    </tr>\n",
       "    <tr>\n",
       "      <th>여행사</th>\n",
       "      <td>163610</td>\n",
       "      <td>153791</td>\n",
       "    </tr>\n",
       "    <tr>\n",
       "      <th>체험</th>\n",
       "      <td>392540</td>\n",
       "      <td>516977</td>\n",
       "    </tr>\n",
       "  </tbody>\n",
       "</table>\n",
       "</div>"
      ],
      "text/plain": [
       "       50F_19   50M_19\n",
       "업종2                   \n",
       "관광쇼핑  1007596  1003074\n",
       "교통    8385756  9588652\n",
       "숙박    1142123  2735753\n",
       "여행사    163610   153791\n",
       "체험     392540   516977"
      ]
     },
     "execution_count": 138,
     "metadata": {},
     "output_type": "execute_result"
    }
   ],
   "source": [
    "df19_50_남 = df_2019[df_2019['연령대'] == 50]\n",
    "df19_50_남 = df19_50_남[df19_50_남['성별'] == 'M'].groupby('업종2')['이용건수'].sum()\n",
    "df19_50_남 = pd.DataFrame(df19_50_남)\n",
    "\n",
    "df19_50_여 = df_2019[df_2019['연령대'] == 50]\n",
    "df19_50_여 = df19_50_여[df19_50_여['성별'] == 'F'].groupby('업종2')['이용건수'].sum()\n",
    "df19_50_여 = pd.DataFrame(df19_50_여)\n",
    "\n",
    "df19_50_sex = pd.merge(df19_50_여, df19_50_남, on='업종2')\n",
    "df19_50_sex.columns = ['50F_19', '50M_19']\n",
    "df19_50_sex"
   ]
  },
  {
   "cell_type": "code",
   "execution_count": 140,
   "metadata": {},
   "outputs": [
    {
     "data": {
      "text/html": [
       "<div>\n",
       "<style scoped>\n",
       "    .dataframe tbody tr th:only-of-type {\n",
       "        vertical-align: middle;\n",
       "    }\n",
       "\n",
       "    .dataframe tbody tr th {\n",
       "        vertical-align: top;\n",
       "    }\n",
       "\n",
       "    .dataframe thead th {\n",
       "        text-align: right;\n",
       "    }\n",
       "</style>\n",
       "<table border=\"1\" class=\"dataframe\">\n",
       "  <thead>\n",
       "    <tr style=\"text-align: right;\">\n",
       "      <th></th>\n",
       "      <th>60F_19</th>\n",
       "      <th>60M_19</th>\n",
       "    </tr>\n",
       "    <tr>\n",
       "      <th>업종2</th>\n",
       "      <th></th>\n",
       "      <th></th>\n",
       "    </tr>\n",
       "  </thead>\n",
       "  <tbody>\n",
       "    <tr>\n",
       "      <th>관광쇼핑</th>\n",
       "      <td>458382</td>\n",
       "      <td>468862</td>\n",
       "    </tr>\n",
       "    <tr>\n",
       "      <th>교통</th>\n",
       "      <td>3498072</td>\n",
       "      <td>5501532</td>\n",
       "    </tr>\n",
       "    <tr>\n",
       "      <th>숙박</th>\n",
       "      <td>610313</td>\n",
       "      <td>1294245</td>\n",
       "    </tr>\n",
       "    <tr>\n",
       "      <th>여행사</th>\n",
       "      <td>85087</td>\n",
       "      <td>110861</td>\n",
       "    </tr>\n",
       "    <tr>\n",
       "      <th>체험</th>\n",
       "      <td>213729</td>\n",
       "      <td>312125</td>\n",
       "    </tr>\n",
       "  </tbody>\n",
       "</table>\n",
       "</div>"
      ],
      "text/plain": [
       "       60F_19   60M_19\n",
       "업종2                   \n",
       "관광쇼핑   458382   468862\n",
       "교통    3498072  5501532\n",
       "숙박     610313  1294245\n",
       "여행사     85087   110861\n",
       "체험     213729   312125"
      ]
     },
     "execution_count": 140,
     "metadata": {},
     "output_type": "execute_result"
    }
   ],
   "source": [
    "df19_60_남 = df_2019[df_2019['연령대'] == 60]\n",
    "df19_60_남 = df19_60_남[df19_60_남['성별'] == 'M'].groupby('업종2')['이용건수'].sum()\n",
    "df19_60_남 = pd.DataFrame(df19_60_남)\n",
    "\n",
    "df19_60_여 = df_2019[df_2019['연령대'] == 60]\n",
    "df19_60_여 = df19_60_여[df19_60_여['성별'] == 'F'].groupby('업종2')['이용건수'].sum()\n",
    "df19_60_여 = pd.DataFrame(df19_60_여)\n",
    "\n",
    "df19_60_sex = pd.merge(df19_60_여, df19_60_남, on='업종2')\n",
    "df19_60_sex.columns = ['60F_19', '60M_19']\n",
    "df19_60_sex"
   ]
  },
  {
   "cell_type": "code",
   "execution_count": 151,
   "metadata": {},
   "outputs": [],
   "source": [
    "df19 = pd.merge(df19_20_sex, df19_30_sex, on='업종2')\n",
    "df19 = pd.merge(df19, df19_40_sex, on='업종2')\n",
    "df19 = pd.merge(df19, df19_50_sex, on='업종2')\n",
    "df19 = pd.merge(df19, df19_60_sex, on='업종2')\n",
    "\n",
    "df20 = pd.merge(df_20_sex, df_30_sex, on='업종2')\n",
    "df20 = pd.merge(df20, df_40_sex, on='업종2')\n",
    "df20 = pd.merge(df20, df_50_sex, on='업종2')\n",
    "df20 = pd.merge(df20, df_60_sex, on='업종2')"
   ]
  }
 ],
 "metadata": {
  "kernelspec": {
   "display_name": "Python 3",
   "language": "python",
   "name": "python3"
  },
  "language_info": {
   "codemirror_mode": {
    "name": "ipython",
    "version": 3
   },
   "file_extension": ".py",
   "mimetype": "text/x-python",
   "name": "python",
   "nbconvert_exporter": "python",
   "pygments_lexer": "ipython3",
   "version": "3.7.6"
  }
 },
 "nbformat": 4,
 "nbformat_minor": 4
}
