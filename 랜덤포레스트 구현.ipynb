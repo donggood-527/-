{
 "cells": [
  {
   "cell_type": "code",
   "execution_count": 13,
   "metadata": {},
   "outputs": [],
   "source": [
    "import pandas as pd"
   ]
  },
  {
   "cell_type": "code",
   "execution_count": 14,
   "metadata": {},
   "outputs": [],
   "source": [
    "df = pd.read_csv('./csv_file/국민여행조사2.csv')\n",
    "df_label = pd.read_csv('./csv_file/라벨링.csv')\n",
    "df_m = pd.read_csv('./csv_file/국민여행조사_남자 여행지역.csv')\n",
    "df_w = pd.read_csv('./csv_file/국민여행조사_여자 여행지역.csv')"
   ]
  },
  {
   "cell_type": "code",
   "execution_count": 15,
   "metadata": {},
   "outputs": [],
   "source": [
    "df = df[df['MON_EXP_1'] == 1]"
   ]
  },
  {
   "cell_type": "code",
   "execution_count": 16,
   "metadata": {},
   "outputs": [],
   "source": [
    "df = pd.merge(df, df_label, on='ID')"
   ]
  },
  {
   "cell_type": "code",
   "execution_count": 17,
   "metadata": {},
   "outputs": [],
   "source": [
    "df_sex = pd.concat([df_m, df_w])"
   ]
  },
  {
   "cell_type": "code",
   "execution_count": 18,
   "metadata": {},
   "outputs": [],
   "source": [
    "df = pd.merge(df, df_sex, on='ID', how='left')"
   ]
  },
  {
   "cell_type": "code",
   "execution_count": 19,
   "metadata": {},
   "outputs": [],
   "source": [
    "dist = []\n",
    "for i in range(len(df)):\n",
    "    if df['D_TRA1_1_SPOT1'][i][:2] == '11':\n",
    "        dist.append('서울')\n",
    "    elif df['D_TRA1_1_SPOT1'][i][:2] == '21':\n",
    "        dist.append('부산')\n",
    "    elif df['D_TRA1_1_SPOT1'][i][:2] == '22':\n",
    "        dist.append('대구')\n",
    "    elif df['D_TRA1_1_SPOT1'][i][:2] == '23':\n",
    "        dist.append('인천')\n",
    "    elif df['D_TRA1_1_SPOT1'][i][:2] == '25':\n",
    "        dist.append('대전')\n",
    "    elif df['D_TRA1_1_SPOT1'][i][:2] == '29':\n",
    "        dist.append('세종')\n",
    "    elif df['D_TRA1_1_SPOT1'][i][:2] == '24':\n",
    "        dist.append('광주')\n",
    "    elif df['D_TRA1_1_SPOT1'][i][:2] == '26':\n",
    "        dist.append('울산')\n",
    "    elif df['D_TRA1_1_SPOT1'][i][:2] == '31':\n",
    "        dist.append('경기도')\n",
    "    elif df['D_TRA1_1_SPOT1'][i][:2] == '32':\n",
    "        dist.append('강원도')\n",
    "    elif df['D_TRA1_1_SPOT1'][i][:2] == '33':\n",
    "        dist.append('충청북도')\n",
    "    elif df['D_TRA1_1_SPOT1'][i][:2] == '37':\n",
    "        dist.append('경상북도')\n",
    "    elif df['D_TRA1_1_SPOT1'][i][:2] == '38':\n",
    "        dist.append('경상남도')\n",
    "    elif df['D_TRA1_1_SPOT1'][i][:2] == '35':\n",
    "        dist.append('전라북도')\n",
    "    elif df['D_TRA1_1_SPOT1'][i][:2] == '36':\n",
    "        dist.append('전라남도')\n",
    "    elif df['D_TRA1_1_SPOT1'][i][:2] == '39':\n",
    "        dist.append('제주도')\n",
    "    else:\n",
    "        dist.append('-')\n",
    "df['travel'] = dist"
   ]
  },
  {
   "cell_type": "code",
   "execution_count": 20,
   "metadata": {},
   "outputs": [],
   "source": [
    "df = df.drop(['MON_EXP_1', 'S5', 'D_TRA1_1_SPOT1', 'BARA', 'WT_DOM', '여행지역'], axis=1)"
   ]
  },
  {
   "cell_type": "code",
   "execution_count": 21,
   "metadata": {},
   "outputs": [
    {
     "data": {
      "text/plain": [
       "Index(['ID', 'A2_1', 'A2_2', 'A2_3', 'A3_1', 'A3_2', 'A3_3', 'A3_4', 'A3_5',\n",
       "       'A3_6', 'A3_7', 'A3_8', 'A3_9', 'A3_10', 'A3_11', 'A3_12', 'A3_13',\n",
       "       'A3_14', 'A3_15', 'A3_16', 'A3_17', 'A3_18', 'A3_19', 'A3_20', 'A3_21',\n",
       "       'A4_1', 'A4_2', 'A4_3', 'A4A_1', 'A4A_2', 'A4A_3', 'A12', 'A13', 'A14',\n",
       "       'BSEX_x', 'BAGE_x', 'label', 'BSEX_y', 'BAGE_y', 'travel'],\n",
       "      dtype='object')"
      ]
     },
     "execution_count": 21,
     "metadata": {},
     "output_type": "execute_result"
    }
   ],
   "source": [
    "df.columns"
   ]
  },
  {
   "cell_type": "code",
   "execution_count": 22,
   "metadata": {},
   "outputs": [
    {
     "ename": "KeyError",
     "evalue": "\"['BSEX', 'BAGE'] not in index\"",
     "output_type": "error",
     "traceback": [
      "\u001b[1;31m---------------------------------------------------------------------------\u001b[0m",
      "\u001b[1;31mKeyError\u001b[0m                                  Traceback (most recent call last)",
      "\u001b[1;32m<ipython-input-22-58c73ee736dc>\u001b[0m in \u001b[0;36m<module>\u001b[1;34m\u001b[0m\n\u001b[0;32m      1\u001b[0m df_여행활동 = df[['ID', 'A3_1', 'A3_2', 'A3_3', 'A3_4', 'A3_5', 'A3_6', 'A3_7', 'A3_8', 'A3_9', 'A3_10',\n\u001b[0;32m      2\u001b[0m                     \u001b[1;34m'A3_11'\u001b[0m\u001b[1;33m,\u001b[0m \u001b[1;34m'A3_12'\u001b[0m\u001b[1;33m,\u001b[0m \u001b[1;34m'A3_13'\u001b[0m\u001b[1;33m,\u001b[0m \u001b[1;34m'A3_14'\u001b[0m\u001b[1;33m,\u001b[0m \u001b[1;34m'A3_15'\u001b[0m\u001b[1;33m,\u001b[0m \u001b[1;34m'A3_16'\u001b[0m\u001b[1;33m,\u001b[0m \u001b[1;34m'A3_17'\u001b[0m\u001b[1;33m,\u001b[0m \u001b[1;34m'A3_18'\u001b[0m\u001b[1;33m,\u001b[0m \u001b[1;34m'A3_19'\u001b[0m\u001b[1;33m,\u001b[0m \u001b[1;34m'A3_20'\u001b[0m\u001b[1;33m,\u001b[0m\u001b[1;33m\u001b[0m\u001b[1;33m\u001b[0m\u001b[0m\n\u001b[1;32m----> 3\u001b[1;33m                     'A3_21', 'BSEX', 'BAGE', 'label']]\n\u001b[0m",
      "\u001b[1;32mC:\\ProgramData\\Anaconda3\\lib\\site-packages\\pandas\\core\\frame.py\u001b[0m in \u001b[0;36m__getitem__\u001b[1;34m(self, key)\u001b[0m\n\u001b[0;32m   2804\u001b[0m             \u001b[1;32mif\u001b[0m \u001b[0mis_iterator\u001b[0m\u001b[1;33m(\u001b[0m\u001b[0mkey\u001b[0m\u001b[1;33m)\u001b[0m\u001b[1;33m:\u001b[0m\u001b[1;33m\u001b[0m\u001b[1;33m\u001b[0m\u001b[0m\n\u001b[0;32m   2805\u001b[0m                 \u001b[0mkey\u001b[0m \u001b[1;33m=\u001b[0m \u001b[0mlist\u001b[0m\u001b[1;33m(\u001b[0m\u001b[0mkey\u001b[0m\u001b[1;33m)\u001b[0m\u001b[1;33m\u001b[0m\u001b[1;33m\u001b[0m\u001b[0m\n\u001b[1;32m-> 2806\u001b[1;33m             \u001b[0mindexer\u001b[0m \u001b[1;33m=\u001b[0m \u001b[0mself\u001b[0m\u001b[1;33m.\u001b[0m\u001b[0mloc\u001b[0m\u001b[1;33m.\u001b[0m\u001b[0m_get_listlike_indexer\u001b[0m\u001b[1;33m(\u001b[0m\u001b[0mkey\u001b[0m\u001b[1;33m,\u001b[0m \u001b[0maxis\u001b[0m\u001b[1;33m=\u001b[0m\u001b[1;36m1\u001b[0m\u001b[1;33m,\u001b[0m \u001b[0mraise_missing\u001b[0m\u001b[1;33m=\u001b[0m\u001b[1;32mTrue\u001b[0m\u001b[1;33m)\u001b[0m\u001b[1;33m[\u001b[0m\u001b[1;36m1\u001b[0m\u001b[1;33m]\u001b[0m\u001b[1;33m\u001b[0m\u001b[1;33m\u001b[0m\u001b[0m\n\u001b[0m\u001b[0;32m   2807\u001b[0m \u001b[1;33m\u001b[0m\u001b[0m\n\u001b[0;32m   2808\u001b[0m         \u001b[1;31m# take() does not accept boolean indexers\u001b[0m\u001b[1;33m\u001b[0m\u001b[1;33m\u001b[0m\u001b[1;33m\u001b[0m\u001b[0m\n",
      "\u001b[1;32mC:\\ProgramData\\Anaconda3\\lib\\site-packages\\pandas\\core\\indexing.py\u001b[0m in \u001b[0;36m_get_listlike_indexer\u001b[1;34m(self, key, axis, raise_missing)\u001b[0m\n\u001b[0;32m   1550\u001b[0m \u001b[1;33m\u001b[0m\u001b[0m\n\u001b[0;32m   1551\u001b[0m         self._validate_read_indexer(\n\u001b[1;32m-> 1552\u001b[1;33m             \u001b[0mkeyarr\u001b[0m\u001b[1;33m,\u001b[0m \u001b[0mindexer\u001b[0m\u001b[1;33m,\u001b[0m \u001b[0mo\u001b[0m\u001b[1;33m.\u001b[0m\u001b[0m_get_axis_number\u001b[0m\u001b[1;33m(\u001b[0m\u001b[0maxis\u001b[0m\u001b[1;33m)\u001b[0m\u001b[1;33m,\u001b[0m \u001b[0mraise_missing\u001b[0m\u001b[1;33m=\u001b[0m\u001b[0mraise_missing\u001b[0m\u001b[1;33m\u001b[0m\u001b[1;33m\u001b[0m\u001b[0m\n\u001b[0m\u001b[0;32m   1553\u001b[0m         )\n\u001b[0;32m   1554\u001b[0m         \u001b[1;32mreturn\u001b[0m \u001b[0mkeyarr\u001b[0m\u001b[1;33m,\u001b[0m \u001b[0mindexer\u001b[0m\u001b[1;33m\u001b[0m\u001b[1;33m\u001b[0m\u001b[0m\n",
      "\u001b[1;32mC:\\ProgramData\\Anaconda3\\lib\\site-packages\\pandas\\core\\indexing.py\u001b[0m in \u001b[0;36m_validate_read_indexer\u001b[1;34m(self, key, indexer, axis, raise_missing)\u001b[0m\n\u001b[0;32m   1643\u001b[0m             \u001b[1;32mif\u001b[0m \u001b[1;32mnot\u001b[0m \u001b[1;33m(\u001b[0m\u001b[0mself\u001b[0m\u001b[1;33m.\u001b[0m\u001b[0mname\u001b[0m \u001b[1;33m==\u001b[0m \u001b[1;34m\"loc\"\u001b[0m \u001b[1;32mand\u001b[0m \u001b[1;32mnot\u001b[0m \u001b[0mraise_missing\u001b[0m\u001b[1;33m)\u001b[0m\u001b[1;33m:\u001b[0m\u001b[1;33m\u001b[0m\u001b[1;33m\u001b[0m\u001b[0m\n\u001b[0;32m   1644\u001b[0m                 \u001b[0mnot_found\u001b[0m \u001b[1;33m=\u001b[0m \u001b[0mlist\u001b[0m\u001b[1;33m(\u001b[0m\u001b[0mset\u001b[0m\u001b[1;33m(\u001b[0m\u001b[0mkey\u001b[0m\u001b[1;33m)\u001b[0m \u001b[1;33m-\u001b[0m \u001b[0mset\u001b[0m\u001b[1;33m(\u001b[0m\u001b[0max\u001b[0m\u001b[1;33m)\u001b[0m\u001b[1;33m)\u001b[0m\u001b[1;33m\u001b[0m\u001b[1;33m\u001b[0m\u001b[0m\n\u001b[1;32m-> 1645\u001b[1;33m                 \u001b[1;32mraise\u001b[0m \u001b[0mKeyError\u001b[0m\u001b[1;33m(\u001b[0m\u001b[1;34mf\"{not_found} not in index\"\u001b[0m\u001b[1;33m)\u001b[0m\u001b[1;33m\u001b[0m\u001b[1;33m\u001b[0m\u001b[0m\n\u001b[0m\u001b[0;32m   1646\u001b[0m \u001b[1;33m\u001b[0m\u001b[0m\n\u001b[0;32m   1647\u001b[0m             \u001b[1;31m# we skip the warning on Categorical/Interval\u001b[0m\u001b[1;33m\u001b[0m\u001b[1;33m\u001b[0m\u001b[1;33m\u001b[0m\u001b[0m\n",
      "\u001b[1;31mKeyError\u001b[0m: \"['BSEX', 'BAGE'] not in index\""
     ]
    }
   ],
   "source": [
    "df_여행활동 = df[['ID', 'A3_1', 'A3_2', 'A3_3', 'A3_4', 'A3_5', 'A3_6', 'A3_7', 'A3_8', 'A3_9', 'A3_10',\n",
    "                    'A3_11', 'A3_12', 'A3_13', 'A3_14', 'A3_15', 'A3_16', 'A3_17', 'A3_18', 'A3_19', 'A3_20',\n",
    "                    'A3_21', 'BSEX', 'BAGE', 'label']]"
   ]
  },
  {
   "cell_type": "code",
   "execution_count": 12,
   "metadata": {},
   "outputs": [
    {
     "ename": "NameError",
     "evalue": "name 'df_여행활동' is not defined",
     "output_type": "error",
     "traceback": [
      "\u001b[1;31m---------------------------------------------------------------------------\u001b[0m",
      "\u001b[1;31mNameError\u001b[0m                                 Traceback (most recent call last)",
      "\u001b[1;32m<ipython-input-12-d9e98f18897a>\u001b[0m in \u001b[0;36m<module>\u001b[1;34m\u001b[0m\n\u001b[1;32m----> 1\u001b[1;33m \u001b[0mdf_여행활동\u001b[0m\u001b[1;33m.\u001b[0m\u001b[0mcolumns\u001b[0m\u001b[1;33m\u001b[0m\u001b[1;33m\u001b[0m\u001b[0m\n\u001b[0m",
      "\u001b[1;31mNameError\u001b[0m: name 'df_여행활동' is not defined"
     ]
    }
   ],
   "source": [
    "df_여행활동.columns"
   ]
  },
  {
   "cell_type": "code",
   "execution_count": 109,
   "metadata": {},
   "outputs": [],
   "source": [
    "A3_1 = [] \n",
    "A3_2 = []\n",
    "A3_3 = []\n",
    "A3_4 = []\n",
    "A3_5 = []\n",
    "A3_6 = []\n",
    "A3_7 = []\n",
    "A3_8 = []\n",
    "A3_9 = []\n",
    "A3_10 = []\n",
    "A3_11 = []\n",
    "A3_12 = []\n",
    "A3_13 = []\n",
    "A3_14 = []\n",
    "A3_15 = []\n",
    "A3_16 = []\n",
    "A3_17 = []\n",
    "A3_18 = []\n",
    "A3_19 = []\n",
    "A3_20 = []\n",
    "A3_21 = []\n",
    "for i in range(len(df)):\n",
    "    if df['A3_1'][i] == '1':\n",
    "        A3_1.append(1)\n",
    "    else:\n",
    "        A3_1.append(0)\n",
    "    if df['A3_2'][i] == '2':\n",
    "        A3_2.append(1)\n",
    "    else:\n",
    "        A3_2.append(0)\n",
    "    if df['A3_3'][i] == '3':\n",
    "        A3_3.append(1)\n",
    "    else:\n",
    "        A3_3.append(0)\n",
    "    if df['A3_4'][i] == '4':\n",
    "        A3_4.append(1)\n",
    "    else:\n",
    "        A3_4.append(0)\n",
    "    if df['A3_5'][i] == '5':\n",
    "        A3_5.append(1)\n",
    "    else:\n",
    "        A3_5.append(0)\n",
    "    if df['A3_6'][i] == '6':\n",
    "        A3_6.append(1)\n",
    "    else:\n",
    "        A3_6.append(0)\n",
    "    if df['A3_7'][i] == '7':\n",
    "        A3_7.append(1)\n",
    "    else:\n",
    "        A3_7.append(0)\n",
    "    if df['A3_8'][i] == '8':\n",
    "        A3_8.append(1)\n",
    "    else:\n",
    "        A3_8.append(0)\n",
    "    if df['A3_9'][i] == '9':\n",
    "        A3_9.append(1)\n",
    "    else:\n",
    "        A3_9.append(0)\n",
    "    if df['A3_10'][i] == '10':\n",
    "        A3_10.append(1)\n",
    "    else:\n",
    "        A3_10.append(0)\n",
    "    if df['A3_11'][i] == '11':\n",
    "        A3_11.append(1)\n",
    "    else:\n",
    "        A3_11.append(0)\n",
    "    if df['A3_12'][i] == '12':\n",
    "        A3_12.append(1)\n",
    "    else:\n",
    "        A3_12.append(0)\n",
    "    if df['A3_13'][i] == '13':\n",
    "        A3_13.append(1)\n",
    "    else:\n",
    "        A3_13.append(0)\n",
    "    if df['A3_14'][i] == '14':\n",
    "        A3_14.append(1)\n",
    "    else:\n",
    "        A3_14.append(0)\n",
    "    if df['A3_15'][i] == '15':\n",
    "        A3_15.append(1)\n",
    "    else:\n",
    "        A3_15.append(0)\n",
    "    if df['A3_16'][i] == '16':\n",
    "        A3_16.append(1)\n",
    "    else:\n",
    "        A3_16.append(0)\n",
    "    if df['A3_17'][i] == '17':\n",
    "        A3_17.append(1)\n",
    "    else:\n",
    "        A3_17.append(0)\n",
    "    if df['A3_18'][i] == '18':\n",
    "        A3_18.append(1)\n",
    "    else:\n",
    "        A3_18.append(0)\n",
    "    if df['A3_19'][i] == '19':\n",
    "        A3_19.append(1)\n",
    "    else:\n",
    "        A3_19.append(0)\n",
    "    if df['A3_20'][i] == '20':\n",
    "        A3_20.append(1)\n",
    "    else:\n",
    "        A3_20.append(0)\n",
    "    if df['A3_21'][i] == '21':\n",
    "        A3_21.append(1)\n",
    "    else:\n",
    "        A3_21.append(0)"
   ]
  },
  {
   "cell_type": "code",
   "execution_count": 110,
   "metadata": {
    "collapsed": true
   },
   "outputs": [
    {
     "name": "stderr",
     "output_type": "stream",
     "text": [
      "C:\\ProgramData\\Anaconda3\\lib\\site-packages\\ipykernel_launcher.py:1: SettingWithCopyWarning: \n",
      "A value is trying to be set on a copy of a slice from a DataFrame.\n",
      "Try using .loc[row_indexer,col_indexer] = value instead\n",
      "\n",
      "See the caveats in the documentation: https://pandas.pydata.org/pandas-docs/stable/user_guide/indexing.html#returning-a-view-versus-a-copy\n",
      "  \"\"\"Entry point for launching an IPython kernel.\n",
      "C:\\ProgramData\\Anaconda3\\lib\\site-packages\\ipykernel_launcher.py:2: SettingWithCopyWarning: \n",
      "A value is trying to be set on a copy of a slice from a DataFrame.\n",
      "Try using .loc[row_indexer,col_indexer] = value instead\n",
      "\n",
      "See the caveats in the documentation: https://pandas.pydata.org/pandas-docs/stable/user_guide/indexing.html#returning-a-view-versus-a-copy\n",
      "  \n",
      "C:\\ProgramData\\Anaconda3\\lib\\site-packages\\ipykernel_launcher.py:3: SettingWithCopyWarning: \n",
      "A value is trying to be set on a copy of a slice from a DataFrame.\n",
      "Try using .loc[row_indexer,col_indexer] = value instead\n",
      "\n",
      "See the caveats in the documentation: https://pandas.pydata.org/pandas-docs/stable/user_guide/indexing.html#returning-a-view-versus-a-copy\n",
      "  This is separate from the ipykernel package so we can avoid doing imports until\n",
      "C:\\ProgramData\\Anaconda3\\lib\\site-packages\\ipykernel_launcher.py:4: SettingWithCopyWarning: \n",
      "A value is trying to be set on a copy of a slice from a DataFrame.\n",
      "Try using .loc[row_indexer,col_indexer] = value instead\n",
      "\n",
      "See the caveats in the documentation: https://pandas.pydata.org/pandas-docs/stable/user_guide/indexing.html#returning-a-view-versus-a-copy\n",
      "  after removing the cwd from sys.path.\n",
      "C:\\ProgramData\\Anaconda3\\lib\\site-packages\\ipykernel_launcher.py:5: SettingWithCopyWarning: \n",
      "A value is trying to be set on a copy of a slice from a DataFrame.\n",
      "Try using .loc[row_indexer,col_indexer] = value instead\n",
      "\n",
      "See the caveats in the documentation: https://pandas.pydata.org/pandas-docs/stable/user_guide/indexing.html#returning-a-view-versus-a-copy\n",
      "  \"\"\"\n",
      "C:\\ProgramData\\Anaconda3\\lib\\site-packages\\ipykernel_launcher.py:6: SettingWithCopyWarning: \n",
      "A value is trying to be set on a copy of a slice from a DataFrame.\n",
      "Try using .loc[row_indexer,col_indexer] = value instead\n",
      "\n",
      "See the caveats in the documentation: https://pandas.pydata.org/pandas-docs/stable/user_guide/indexing.html#returning-a-view-versus-a-copy\n",
      "  \n",
      "C:\\ProgramData\\Anaconda3\\lib\\site-packages\\ipykernel_launcher.py:7: SettingWithCopyWarning: \n",
      "A value is trying to be set on a copy of a slice from a DataFrame.\n",
      "Try using .loc[row_indexer,col_indexer] = value instead\n",
      "\n",
      "See the caveats in the documentation: https://pandas.pydata.org/pandas-docs/stable/user_guide/indexing.html#returning-a-view-versus-a-copy\n",
      "  import sys\n",
      "C:\\ProgramData\\Anaconda3\\lib\\site-packages\\ipykernel_launcher.py:8: SettingWithCopyWarning: \n",
      "A value is trying to be set on a copy of a slice from a DataFrame.\n",
      "Try using .loc[row_indexer,col_indexer] = value instead\n",
      "\n",
      "See the caveats in the documentation: https://pandas.pydata.org/pandas-docs/stable/user_guide/indexing.html#returning-a-view-versus-a-copy\n",
      "  \n",
      "C:\\ProgramData\\Anaconda3\\lib\\site-packages\\ipykernel_launcher.py:9: SettingWithCopyWarning: \n",
      "A value is trying to be set on a copy of a slice from a DataFrame.\n",
      "Try using .loc[row_indexer,col_indexer] = value instead\n",
      "\n",
      "See the caveats in the documentation: https://pandas.pydata.org/pandas-docs/stable/user_guide/indexing.html#returning-a-view-versus-a-copy\n",
      "  if __name__ == '__main__':\n",
      "C:\\ProgramData\\Anaconda3\\lib\\site-packages\\ipykernel_launcher.py:10: SettingWithCopyWarning: \n",
      "A value is trying to be set on a copy of a slice from a DataFrame.\n",
      "Try using .loc[row_indexer,col_indexer] = value instead\n",
      "\n",
      "See the caveats in the documentation: https://pandas.pydata.org/pandas-docs/stable/user_guide/indexing.html#returning-a-view-versus-a-copy\n",
      "  # Remove the CWD from sys.path while we load stuff.\n",
      "C:\\ProgramData\\Anaconda3\\lib\\site-packages\\ipykernel_launcher.py:11: SettingWithCopyWarning: \n",
      "A value is trying to be set on a copy of a slice from a DataFrame.\n",
      "Try using .loc[row_indexer,col_indexer] = value instead\n",
      "\n",
      "See the caveats in the documentation: https://pandas.pydata.org/pandas-docs/stable/user_guide/indexing.html#returning-a-view-versus-a-copy\n",
      "  # This is added back by InteractiveShellApp.init_path()\n",
      "C:\\ProgramData\\Anaconda3\\lib\\site-packages\\ipykernel_launcher.py:12: SettingWithCopyWarning: \n",
      "A value is trying to be set on a copy of a slice from a DataFrame.\n",
      "Try using .loc[row_indexer,col_indexer] = value instead\n",
      "\n",
      "See the caveats in the documentation: https://pandas.pydata.org/pandas-docs/stable/user_guide/indexing.html#returning-a-view-versus-a-copy\n",
      "  if sys.path[0] == '':\n",
      "C:\\ProgramData\\Anaconda3\\lib\\site-packages\\ipykernel_launcher.py:13: SettingWithCopyWarning: \n",
      "A value is trying to be set on a copy of a slice from a DataFrame.\n",
      "Try using .loc[row_indexer,col_indexer] = value instead\n",
      "\n",
      "See the caveats in the documentation: https://pandas.pydata.org/pandas-docs/stable/user_guide/indexing.html#returning-a-view-versus-a-copy\n",
      "  del sys.path[0]\n",
      "C:\\ProgramData\\Anaconda3\\lib\\site-packages\\ipykernel_launcher.py:14: SettingWithCopyWarning: \n",
      "A value is trying to be set on a copy of a slice from a DataFrame.\n",
      "Try using .loc[row_indexer,col_indexer] = value instead\n",
      "\n",
      "See the caveats in the documentation: https://pandas.pydata.org/pandas-docs/stable/user_guide/indexing.html#returning-a-view-versus-a-copy\n",
      "  \n",
      "C:\\ProgramData\\Anaconda3\\lib\\site-packages\\ipykernel_launcher.py:15: SettingWithCopyWarning: \n",
      "A value is trying to be set on a copy of a slice from a DataFrame.\n",
      "Try using .loc[row_indexer,col_indexer] = value instead\n",
      "\n",
      "See the caveats in the documentation: https://pandas.pydata.org/pandas-docs/stable/user_guide/indexing.html#returning-a-view-versus-a-copy\n",
      "  from ipykernel import kernelapp as app\n",
      "C:\\ProgramData\\Anaconda3\\lib\\site-packages\\ipykernel_launcher.py:16: SettingWithCopyWarning: \n",
      "A value is trying to be set on a copy of a slice from a DataFrame.\n",
      "Try using .loc[row_indexer,col_indexer] = value instead\n",
      "\n",
      "See the caveats in the documentation: https://pandas.pydata.org/pandas-docs/stable/user_guide/indexing.html#returning-a-view-versus-a-copy\n",
      "  app.launch_new_instance()\n",
      "C:\\ProgramData\\Anaconda3\\lib\\site-packages\\ipykernel_launcher.py:17: SettingWithCopyWarning: \n",
      "A value is trying to be set on a copy of a slice from a DataFrame.\n",
      "Try using .loc[row_indexer,col_indexer] = value instead\n",
      "\n",
      "See the caveats in the documentation: https://pandas.pydata.org/pandas-docs/stable/user_guide/indexing.html#returning-a-view-versus-a-copy\n",
      "C:\\ProgramData\\Anaconda3\\lib\\site-packages\\ipykernel_launcher.py:18: SettingWithCopyWarning: \n",
      "A value is trying to be set on a copy of a slice from a DataFrame.\n",
      "Try using .loc[row_indexer,col_indexer] = value instead\n",
      "\n",
      "See the caveats in the documentation: https://pandas.pydata.org/pandas-docs/stable/user_guide/indexing.html#returning-a-view-versus-a-copy\n",
      "C:\\ProgramData\\Anaconda3\\lib\\site-packages\\ipykernel_launcher.py:19: SettingWithCopyWarning: \n",
      "A value is trying to be set on a copy of a slice from a DataFrame.\n",
      "Try using .loc[row_indexer,col_indexer] = value instead\n",
      "\n",
      "See the caveats in the documentation: https://pandas.pydata.org/pandas-docs/stable/user_guide/indexing.html#returning-a-view-versus-a-copy\n",
      "C:\\ProgramData\\Anaconda3\\lib\\site-packages\\ipykernel_launcher.py:20: SettingWithCopyWarning: \n",
      "A value is trying to be set on a copy of a slice from a DataFrame.\n",
      "Try using .loc[row_indexer,col_indexer] = value instead\n",
      "\n",
      "See the caveats in the documentation: https://pandas.pydata.org/pandas-docs/stable/user_guide/indexing.html#returning-a-view-versus-a-copy\n",
      "C:\\ProgramData\\Anaconda3\\lib\\site-packages\\ipykernel_launcher.py:21: SettingWithCopyWarning: \n",
      "A value is trying to be set on a copy of a slice from a DataFrame.\n",
      "Try using .loc[row_indexer,col_indexer] = value instead\n",
      "\n",
      "See the caveats in the documentation: https://pandas.pydata.org/pandas-docs/stable/user_guide/indexing.html#returning-a-view-versus-a-copy\n"
     ]
    }
   ],
   "source": [
    "df_여행활동['A3_1'] = A3_1 \n",
    "df_여행활동['A3_2'] = A3_2 \n",
    "df_여행활동['A3_3'] = A3_3 \n",
    "df_여행활동['A3_4'] = A3_4 \n",
    "df_여행활동['A3_5'] = A3_5 \n",
    "df_여행활동['A3_6'] = A3_6 \n",
    "df_여행활동['A3_7'] = A3_7 \n",
    "df_여행활동['A3_8'] = A3_8 \n",
    "df_여행활동['A3_9'] = A3_9 \n",
    "df_여행활동['A3_10'] = A3_10\n",
    "df_여행활동['A3_11'] = A3_11\n",
    "df_여행활동['A3_12'] = A3_12\n",
    "df_여행활동['A3_13'] = A3_13\n",
    "df_여행활동['A3_14'] = A3_14\n",
    "df_여행활동['A3_15'] = A3_15\n",
    "df_여행활동['A3_16'] = A3_16\n",
    "df_여행활동['A3_17'] = A3_17\n",
    "df_여행활동['A3_18'] = A3_18\n",
    "df_여행활동['A3_19'] = A3_19\n",
    "df_여행활동['A3_20'] = A3_20\n",
    "df_여행활동['A3_21'] = A3_21"
   ]
  },
  {
   "cell_type": "code",
   "execution_count": 121,
   "metadata": {},
   "outputs": [
    {
     "data": {
      "text/plain": [
       "Index(['ID', 'A3_1', 'A3_2', 'A3_3', 'A3_4', 'A3_5', 'A3_6', 'A3_7', 'A3_8',\n",
       "       'A3_9', 'A3_10', 'A3_11', 'A3_12', 'A3_13', 'A3_14', 'A3_15', 'A3_16',\n",
       "       'A3_17', 'A3_18', 'A3_19', 'A3_20', 'A3_21', 'BSEX', 'BAGE', 'label'],\n",
       "      dtype='object')"
      ]
     },
     "execution_count": 121,
     "metadata": {},
     "output_type": "execute_result"
    }
   ],
   "source": [
    "df_여행활동.columns"
   ]
  },
  {
   "cell_type": "code",
   "execution_count": 130,
   "metadata": {},
   "outputs": [
    {
     "data": {
      "text/html": [
       "<div>\n",
       "<style scoped>\n",
       "    .dataframe tbody tr th:only-of-type {\n",
       "        vertical-align: middle;\n",
       "    }\n",
       "\n",
       "    .dataframe tbody tr th {\n",
       "        vertical-align: top;\n",
       "    }\n",
       "\n",
       "    .dataframe thead th {\n",
       "        text-align: right;\n",
       "    }\n",
       "</style>\n",
       "<table border=\"1\" class=\"dataframe\">\n",
       "  <thead>\n",
       "    <tr style=\"text-align: right;\">\n",
       "      <th></th>\n",
       "      <th>ID</th>\n",
       "      <th>A3_1</th>\n",
       "      <th>A3_2</th>\n",
       "      <th>A3_3</th>\n",
       "      <th>A3_4</th>\n",
       "      <th>A3_5</th>\n",
       "      <th>A3_6</th>\n",
       "      <th>A3_7</th>\n",
       "      <th>A3_8</th>\n",
       "      <th>A3_9</th>\n",
       "      <th>...</th>\n",
       "      <th>A3_15</th>\n",
       "      <th>A3_16</th>\n",
       "      <th>A3_17</th>\n",
       "      <th>A3_18</th>\n",
       "      <th>A3_19</th>\n",
       "      <th>A3_20</th>\n",
       "      <th>A3_21</th>\n",
       "      <th>BSEX</th>\n",
       "      <th>BAGE</th>\n",
       "      <th>label</th>\n",
       "    </tr>\n",
       "  </thead>\n",
       "  <tbody>\n",
       "    <tr>\n",
       "      <th>0</th>\n",
       "      <td>11010550341_1000000</td>\n",
       "      <td>1</td>\n",
       "      <td>1</td>\n",
       "      <td>0</td>\n",
       "      <td>0</td>\n",
       "      <td>0</td>\n",
       "      <td>0</td>\n",
       "      <td>1</td>\n",
       "      <td>0</td>\n",
       "      <td>0</td>\n",
       "      <td>...</td>\n",
       "      <td>0</td>\n",
       "      <td>0</td>\n",
       "      <td>0</td>\n",
       "      <td>1</td>\n",
       "      <td>0</td>\n",
       "      <td>0</td>\n",
       "      <td>0</td>\n",
       "      <td>1</td>\n",
       "      <td>3</td>\n",
       "      <td>1</td>\n",
       "    </tr>\n",
       "    <tr>\n",
       "      <th>1</th>\n",
       "      <td>11010550341_1000005</td>\n",
       "      <td>1</td>\n",
       "      <td>1</td>\n",
       "      <td>0</td>\n",
       "      <td>0</td>\n",
       "      <td>0</td>\n",
       "      <td>1</td>\n",
       "      <td>0</td>\n",
       "      <td>0</td>\n",
       "      <td>0</td>\n",
       "      <td>...</td>\n",
       "      <td>0</td>\n",
       "      <td>0</td>\n",
       "      <td>0</td>\n",
       "      <td>0</td>\n",
       "      <td>0</td>\n",
       "      <td>0</td>\n",
       "      <td>0</td>\n",
       "      <td>1</td>\n",
       "      <td>5</td>\n",
       "      <td>1</td>\n",
       "    </tr>\n",
       "    <tr>\n",
       "      <th>2</th>\n",
       "      <td>11010550341_1000007</td>\n",
       "      <td>1</td>\n",
       "      <td>1</td>\n",
       "      <td>1</td>\n",
       "      <td>0</td>\n",
       "      <td>0</td>\n",
       "      <td>1</td>\n",
       "      <td>1</td>\n",
       "      <td>1</td>\n",
       "      <td>1</td>\n",
       "      <td>...</td>\n",
       "      <td>0</td>\n",
       "      <td>0</td>\n",
       "      <td>0</td>\n",
       "      <td>0</td>\n",
       "      <td>0</td>\n",
       "      <td>0</td>\n",
       "      <td>0</td>\n",
       "      <td>1</td>\n",
       "      <td>1</td>\n",
       "      <td>1</td>\n",
       "    </tr>\n",
       "    <tr>\n",
       "      <th>3</th>\n",
       "      <td>11010550341_1000012</td>\n",
       "      <td>1</td>\n",
       "      <td>1</td>\n",
       "      <td>1</td>\n",
       "      <td>0</td>\n",
       "      <td>0</td>\n",
       "      <td>0</td>\n",
       "      <td>0</td>\n",
       "      <td>0</td>\n",
       "      <td>0</td>\n",
       "      <td>...</td>\n",
       "      <td>0</td>\n",
       "      <td>0</td>\n",
       "      <td>0</td>\n",
       "      <td>0</td>\n",
       "      <td>0</td>\n",
       "      <td>0</td>\n",
       "      <td>0</td>\n",
       "      <td>1</td>\n",
       "      <td>4</td>\n",
       "      <td>1</td>\n",
       "    </tr>\n",
       "    <tr>\n",
       "      <th>4</th>\n",
       "      <td>11010550341_1000013</td>\n",
       "      <td>1</td>\n",
       "      <td>1</td>\n",
       "      <td>1</td>\n",
       "      <td>0</td>\n",
       "      <td>0</td>\n",
       "      <td>1</td>\n",
       "      <td>0</td>\n",
       "      <td>0</td>\n",
       "      <td>0</td>\n",
       "      <td>...</td>\n",
       "      <td>0</td>\n",
       "      <td>0</td>\n",
       "      <td>0</td>\n",
       "      <td>1</td>\n",
       "      <td>0</td>\n",
       "      <td>0</td>\n",
       "      <td>0</td>\n",
       "      <td>1</td>\n",
       "      <td>6</td>\n",
       "      <td>1</td>\n",
       "    </tr>\n",
       "    <tr>\n",
       "      <th>...</th>\n",
       "      <td>...</td>\n",
       "      <td>...</td>\n",
       "      <td>...</td>\n",
       "      <td>...</td>\n",
       "      <td>...</td>\n",
       "      <td>...</td>\n",
       "      <td>...</td>\n",
       "      <td>...</td>\n",
       "      <td>...</td>\n",
       "      <td>...</td>\n",
       "      <td>...</td>\n",
       "      <td>...</td>\n",
       "      <td>...</td>\n",
       "      <td>...</td>\n",
       "      <td>...</td>\n",
       "      <td>...</td>\n",
       "      <td>...</td>\n",
       "      <td>...</td>\n",
       "      <td>...</td>\n",
       "      <td>...</td>\n",
       "      <td>...</td>\n",
       "    </tr>\n",
       "    <tr>\n",
       "      <th>18882</th>\n",
       "      <td>39020600061_1283723</td>\n",
       "      <td>1</td>\n",
       "      <td>0</td>\n",
       "      <td>0</td>\n",
       "      <td>0</td>\n",
       "      <td>0</td>\n",
       "      <td>0</td>\n",
       "      <td>0</td>\n",
       "      <td>0</td>\n",
       "      <td>0</td>\n",
       "      <td>...</td>\n",
       "      <td>0</td>\n",
       "      <td>0</td>\n",
       "      <td>0</td>\n",
       "      <td>0</td>\n",
       "      <td>0</td>\n",
       "      <td>1</td>\n",
       "      <td>0</td>\n",
       "      <td>1</td>\n",
       "      <td>1</td>\n",
       "      <td>0</td>\n",
       "    </tr>\n",
       "    <tr>\n",
       "      <th>18883</th>\n",
       "      <td>39020600401_1319375</td>\n",
       "      <td>1</td>\n",
       "      <td>1</td>\n",
       "      <td>0</td>\n",
       "      <td>0</td>\n",
       "      <td>0</td>\n",
       "      <td>0</td>\n",
       "      <td>0</td>\n",
       "      <td>0</td>\n",
       "      <td>0</td>\n",
       "      <td>...</td>\n",
       "      <td>0</td>\n",
       "      <td>0</td>\n",
       "      <td>0</td>\n",
       "      <td>0</td>\n",
       "      <td>0</td>\n",
       "      <td>0</td>\n",
       "      <td>0</td>\n",
       "      <td>1</td>\n",
       "      <td>5</td>\n",
       "      <td>0</td>\n",
       "    </tr>\n",
       "    <tr>\n",
       "      <th>18884</th>\n",
       "      <td>3902061022A_1382196</td>\n",
       "      <td>0</td>\n",
       "      <td>1</td>\n",
       "      <td>0</td>\n",
       "      <td>0</td>\n",
       "      <td>0</td>\n",
       "      <td>1</td>\n",
       "      <td>0</td>\n",
       "      <td>1</td>\n",
       "      <td>1</td>\n",
       "      <td>...</td>\n",
       "      <td>1</td>\n",
       "      <td>0</td>\n",
       "      <td>0</td>\n",
       "      <td>1</td>\n",
       "      <td>0</td>\n",
       "      <td>0</td>\n",
       "      <td>0</td>\n",
       "      <td>2</td>\n",
       "      <td>2</td>\n",
       "      <td>1</td>\n",
       "    </tr>\n",
       "    <tr>\n",
       "      <th>18885</th>\n",
       "      <td>39020620091_1382242</td>\n",
       "      <td>0</td>\n",
       "      <td>0</td>\n",
       "      <td>0</td>\n",
       "      <td>0</td>\n",
       "      <td>1</td>\n",
       "      <td>1</td>\n",
       "      <td>0</td>\n",
       "      <td>0</td>\n",
       "      <td>0</td>\n",
       "      <td>...</td>\n",
       "      <td>1</td>\n",
       "      <td>0</td>\n",
       "      <td>0</td>\n",
       "      <td>0</td>\n",
       "      <td>0</td>\n",
       "      <td>0</td>\n",
       "      <td>0</td>\n",
       "      <td>1</td>\n",
       "      <td>1</td>\n",
       "      <td>1</td>\n",
       "    </tr>\n",
       "    <tr>\n",
       "      <th>18886</th>\n",
       "      <td>39020620091_1382421</td>\n",
       "      <td>0</td>\n",
       "      <td>1</td>\n",
       "      <td>0</td>\n",
       "      <td>0</td>\n",
       "      <td>0</td>\n",
       "      <td>1</td>\n",
       "      <td>0</td>\n",
       "      <td>0</td>\n",
       "      <td>0</td>\n",
       "      <td>...</td>\n",
       "      <td>1</td>\n",
       "      <td>0</td>\n",
       "      <td>0</td>\n",
       "      <td>0</td>\n",
       "      <td>0</td>\n",
       "      <td>0</td>\n",
       "      <td>0</td>\n",
       "      <td>2</td>\n",
       "      <td>1</td>\n",
       "      <td>1</td>\n",
       "    </tr>\n",
       "  </tbody>\n",
       "</table>\n",
       "<p>18887 rows × 25 columns</p>\n",
       "</div>"
      ],
      "text/plain": [
       "                        ID  A3_1  A3_2  A3_3  A3_4  A3_5  A3_6  A3_7  A3_8  \\\n",
       "0      11010550341_1000000     1     1     0     0     0     0     1     0   \n",
       "1      11010550341_1000005     1     1     0     0     0     1     0     0   \n",
       "2      11010550341_1000007     1     1     1     0     0     1     1     1   \n",
       "3      11010550341_1000012     1     1     1     0     0     0     0     0   \n",
       "4      11010550341_1000013     1     1     1     0     0     1     0     0   \n",
       "...                    ...   ...   ...   ...   ...   ...   ...   ...   ...   \n",
       "18882  39020600061_1283723     1     0     0     0     0     0     0     0   \n",
       "18883  39020600401_1319375     1     1     0     0     0     0     0     0   \n",
       "18884  3902061022A_1382196     0     1     0     0     0     1     0     1   \n",
       "18885  39020620091_1382242     0     0     0     0     1     1     0     0   \n",
       "18886  39020620091_1382421     0     1     0     0     0     1     0     0   \n",
       "\n",
       "       A3_9  ...  A3_15  A3_16  A3_17  A3_18  A3_19  A3_20  A3_21  BSEX  BAGE  \\\n",
       "0         0  ...      0      0      0      1      0      0      0     1     3   \n",
       "1         0  ...      0      0      0      0      0      0      0     1     5   \n",
       "2         1  ...      0      0      0      0      0      0      0     1     1   \n",
       "3         0  ...      0      0      0      0      0      0      0     1     4   \n",
       "4         0  ...      0      0      0      1      0      0      0     1     6   \n",
       "...     ...  ...    ...    ...    ...    ...    ...    ...    ...   ...   ...   \n",
       "18882     0  ...      0      0      0      0      0      1      0     1     1   \n",
       "18883     0  ...      0      0      0      0      0      0      0     1     5   \n",
       "18884     1  ...      1      0      0      1      0      0      0     2     2   \n",
       "18885     0  ...      1      0      0      0      0      0      0     1     1   \n",
       "18886     0  ...      1      0      0      0      0      0      0     2     1   \n",
       "\n",
       "       label  \n",
       "0          1  \n",
       "1          1  \n",
       "2          1  \n",
       "3          1  \n",
       "4          1  \n",
       "...      ...  \n",
       "18882      0  \n",
       "18883      0  \n",
       "18884      1  \n",
       "18885      1  \n",
       "18886      1  \n",
       "\n",
       "[18887 rows x 25 columns]"
      ]
     },
     "execution_count": 130,
     "metadata": {},
     "output_type": "execute_result"
    }
   ],
   "source": [
    "df_여행활동"
   ]
  },
  {
   "cell_type": "code",
   "execution_count": 131,
   "metadata": {},
   "outputs": [],
   "source": [
    "df_여행활동.to_csv('동구형화이팅.csv')"
   ]
  },
  {
   "cell_type": "code",
   "execution_count": 119,
   "metadata": {
    "scrolled": false
   },
   "outputs": [
    {
     "data": {
      "image/png": "[encoded data removed]",
      "text/plain": [
       "<Figure size 432x288 with 1 Axes>"
      ]
     },
     "metadata": {},
     "output_type": "display_data"
    }
   ],
   "source": [
    "import matplotlib.pyplot as plt\n",
    "import seaborn as sns\n",
    "total_len = len(df_여행활동.label)\n",
    "sns.countplot(df_여행활동.label).set_title('Domestic travel')\n",
    "ax = plt.gca()\n",
    "for p in ax.patches:\n",
    "    height = p.get_height()\n",
    "    ax.text(p.get_x() + p.get_width()/2., height+2, '{:.2f}%'.format(100*(height/total_len)), fontsize=13,\n",
    "            ha='center', va='bottom')\n",
    "sns.set(font_scale=1.5)\n",
    "ax.set_xlabel('Labels for satisfaction attribution')\n",
    "ax.set_ylabel('Numbers of records')\n",
    "plt.show()"
   ]
  },
  {
   "cell_type": "code",
   "execution_count": 128,
   "metadata": {
    "collapsed": true
   },
   "outputs": [
    {
     "data": {
      "text/plain": [
       "<matplotlib.axes._subplots.AxesSubplot at 0x19780e93108>"
      ]
     },
     "execution_count": 128,
     "metadata": {},
     "output_type": "execute_result"
    },
    {
     "data": {
      "image/png": "[encoded data removed]",
      "text/plain": [
       "<Figure size 1080x1080 with 2 Axes>"
      ]
     },
     "metadata": {},
     "output_type": "display_data"
    }
   ],
   "source": [
    "# 상관관계 모형 시각화\n",
    "plt.figure(figsize=(15,15))\n",
    "sns.set()\n",
    "sns.heatmap(df_여행활동[df_여행활동.columns[1:21]].corr(), annot=True, fmt='.1f', \n",
    "            cmap=(sns.cubehelix_palette(20, start=.5, rot=-.75)))"
   ]
  },
  {
   "cell_type": "code",
   "execution_count": 136,
   "metadata": {},
   "outputs": [
    {
     "data": {
      "text/plain": [
       "Index(['ID', 'A3_1', 'A3_2', 'A3_3', 'A3_4', 'A3_5', 'A3_6', 'A3_7', 'A3_8',\n",
       "       'A3_9', 'A3_10', 'A3_11', 'A3_12', 'A3_13', 'A3_14', 'A3_15', 'A3_16',\n",
       "       'A3_17', 'A3_18', 'A3_19', 'A3_20', 'A3_21', 'BSEX', 'BAGE', 'label'],\n",
       "      dtype='object')"
      ]
     },
     "execution_count": 136,
     "metadata": {},
     "output_type": "execute_result"
    }
   ],
   "source": [
    "df_여행활동.columns"
   ]
  },
  {
   "cell_type": "code",
   "execution_count": 138,
   "metadata": {},
   "outputs": [],
   "source": [
    "df_여행활동2 = df_여행활동.drop(['ID', 'BSEX', 'BAGE', 'label'], axis=1)"
   ]
  },
  {
   "cell_type": "code",
   "execution_count": 145,
   "metadata": {},
   "outputs": [],
   "source": [
    "from sklearn.ensemble import RandomForestClassifier\n",
    "from sklearn.model_selection import train_test_split"
   ]
  },
  {
   "cell_type": "code",
   "execution_count": 146,
   "metadata": {},
   "outputs": [],
   "source": [
    "X = df_여행활동2\n",
    "y = df_여행활동.label\n",
    "X_train, X_test, y_train, y_test = train_test_split(X, y, test_size = 0.25)"
   ]
  },
  {
   "cell_type": "code",
   "execution_count": 147,
   "metadata": {},
   "outputs": [],
   "source": [
    "rfMod = RandomForestClassifier(n_estimators=10, criterion='gini', max_depth=None, min_samples_split=3,\n",
    "                              min_samples_leaf=1, min_weight_fraction_leaf=0.0, max_features='auto',\n",
    "                              max_leaf_nodes=None, bootstrap=True, oob_score=False, n_jobs=1, random_state=None,\n",
    "                              verbose=0)"
   ]
  },
  {
   "cell_type": "code",
   "execution_count": 148,
   "metadata": {},
   "outputs": [
    {
     "data": {
      "text/plain": [
       "RandomForestClassifier(bootstrap=True, ccp_alpha=0.0, class_weight=None,\n",
       "                       criterion='gini', max_depth=None, max_features='auto',\n",
       "                       max_leaf_nodes=None, max_samples=None,\n",
       "                       min_impurity_decrease=0.0, min_impurity_split=None,\n",
       "                       min_samples_leaf=1, min_samples_split=3,\n",
       "                       min_weight_fraction_leaf=0.0, n_estimators=10, n_jobs=1,\n",
       "                       oob_score=False, random_state=None, verbose=0,\n",
       "                       warm_start=False)"
      ]
     },
     "execution_count": 148,
     "metadata": {},
     "output_type": "execute_result"
    }
   ],
   "source": [
    "rfMod.fit(X_train, y_train)"
   ]
  },
  {
   "cell_type": "code",
   "execution_count": 152,
   "metadata": {},
   "outputs": [
    {
     "data": {
      "text/plain": [
       "0.849428208386277"
      ]
     },
     "execution_count": 152,
     "metadata": {},
     "output_type": "execute_result"
    }
   ],
   "source": [
    "rfMod.score(X_test, y_test)"
   ]
  },
  {
   "cell_type": "code",
   "execution_count": 142,
   "metadata": {},
   "outputs": [
    {
     "name": "stdout",
     "output_type": "stream",
     "text": [
      " 1)A3_1                          0.089001\n",
      " 2)A3_2                          0.085000\n",
      " 3)A3_3                          0.074222\n",
      " 4)A3_4                          0.068712\n",
      " 5)A3_5                          0.062511\n",
      " 6)A3_6                          0.058349\n",
      " 7)A3_7                          0.058046\n",
      " 8)A3_8                          0.056427\n",
      " 9)A3_9                          0.056221\n",
      "10)A3_10                         0.054594\n",
      "11)A3_11                         0.053310\n",
      "12)A3_12                         0.044851\n",
      "13)A3_13                         0.044219\n",
      "14)A3_14                         0.039837\n",
      "15)A3_15                         0.032786\n",
      "16)A3_16                         0.032660\n",
      "17)A3_17                         0.032085\n",
      "18)A3_18                         0.020060\n",
      "19)A3_19                         0.019611\n",
      "20)A3_20                         0.012020\n",
      "21)A3_21                         0.005480\n"
     ]
    }
   ],
   "source": [
    "import numpy as np\n",
    "X = df_여행활동2\n",
    "y = df_여행활동.label\n",
    "features_label = df_여행활동2.columns\n",
    "forest = RandomForestClassifier(n_estimators = 10000, random_state = 0, n_jobs = -1)\n",
    "forest.fit(X,y)\n",
    "importances = forest.feature_importances_\n",
    "indices = np.argsort(importances)[::-1]\n",
    "for i in range(X.shape[1]):\n",
    "     print('%2d)%-*s%f'%(i+1, 30, features_label[i], importances[indices[i]]))"
   ]
  },
  {
   "cell_type": "code",
   "execution_count": 144,
   "metadata": {
    "scrolled": true
   },
   "outputs": [
    {
     "data": {
      "image/png": "[encoded data removed]",
      "text/plain": [
       "<Figure size 432x288 with 1 Axes>"
      ]
     },
     "metadata": {},
     "output_type": "display_data"
    }
   ],
   "source": [
    "plt.title('Feature Importances')\n",
    "plt.bar(range(X.shape[1]), importances[indices], color='red', align='center')\n",
    "plt.xticks(range(X.shape[1]), features_label, rotation=90)\n",
    "plt.xlim([-1, X.shape[1]])\n",
    "plt.show()"
   ]
  },
  {
   "cell_type": "code",
   "execution_count": 162,
   "metadata": {},
   "outputs": [],
   "source": [
    "df남_2 = df_여행활동[df_여행활동['BSEX'] == 1]\n",
    "df남_2 = df남_2[df남_2['BAGE'] == 2]\n",
    "df남_2 = df남_2.drop(['ID', 'BSEX', 'BAGE'], axis=1)\n",
    "df남_3 = df_여행활동[df_여행활동['BSEX'] == 1]\n",
    "df남_3 = df남_3[df남_3['BAGE'] == 3]\n",
    "df남_3 = df남_3.drop(['ID', 'BSEX', 'BAGE'], axis=1)\n",
    "df여_2 = df_여행활동[df_여행활동['BSEX'] == 2]\n",
    "df여_2 = df여_2[df여_2['BAGE'] == 2]\n",
    "df여_2 = df여_2.drop(['ID', 'BSEX', 'BAGE'], axis=1)\n",
    "df여_3 = df_여행활동[df_여행활동['BSEX'] == 2]\n",
    "df여_3 = df여_3[df여_3['BAGE'] == 3]\n",
    "df여_3 = df여_3.drop(['ID', 'BSEX', 'BAGE'], axis=1)"
   ]
  },
  {
   "cell_type": "code",
   "execution_count": 182,
   "metadata": {},
   "outputs": [
    {
     "name": "stdout",
     "output_type": "stream",
     "text": [
      " 1)A3_1                          0.111085\n",
      " 2)A3_2                          0.109146\n",
      " 3)A3_3                          0.094134\n",
      " 4)A3_4                          0.077817\n",
      " 5)A3_5                          0.068320\n",
      " 6)A3_6                          0.063016\n",
      " 7)A3_7                          0.059463\n",
      " 8)A3_8                          0.052595\n",
      " 9)A3_9                          0.049770\n",
      "10)A3_10                         0.047238\n",
      "11)A3_11                         0.046785\n",
      "12)A3_12                         0.039507\n",
      "13)A3_13                         0.039131\n",
      "14)A3_14                         0.037845\n",
      "15)A3_15                         0.033346\n",
      "16)A3_16                         0.033327\n",
      "17)A3_17                         0.018314\n",
      "18)A3_18                         0.012433\n",
      "19)A3_19                         0.004134\n",
      "20)A3_20                         0.002592\n",
      "21)A3_21                         0.000000\n"
     ]
    },
    {
     "data": {
      "image/png": "[encoded data removed]",
      "text/plain": [
       "<Figure size 432x288 with 1 Axes>"
      ]
     },
     "metadata": {},
     "output_type": "display_data"
    }
   ],
   "source": [
    "\n",
    "X_train, X_test, y_train, y_test = train_test_split(X, y, test_size = 0.25)\n",
    "import numpy as np\n",
    "X = df남_2.drop('label', axis=1)\n",
    "y = df남_2.label\n",
    "features_label = df남_2.columns\n",
    "forest = RandomForestClassifier(n_estimators = 500, random_state = 5, n_jobs = -1)\n",
    "forest.fit(X,y)\n",
    "importances = forest.feature_importances_\n",
    "indices = np.argsort(importances)[::-1]\n",
    "for i in range(X.shape[1]):\n",
    "     print('%2d)%-*s%f'%(i+1, 30, features_label[i], importances[indices[i]]))\n",
    "        \n",
    "plt.title('Feature Importances')\n",
    "plt.bar(range(X.shape[1]), importances[indices], color='red', align='center')\n",
    "plt.xticks(range(X.shape[1]), features_label, rotation=90)\n",
    "plt.xlim([-1, X.shape[1]])\n",
    "plt.show()"
   ]
  },
  {
   "cell_type": "code",
   "execution_count": 183,
   "metadata": {},
   "outputs": [
    {
     "name": "stdout",
     "output_type": "stream",
     "text": [
      " 1)A3_1                          0.116629\n",
      " 2)A3_2                          0.098413\n",
      " 3)A3_3                          0.084673\n",
      " 4)A3_4                          0.073616\n",
      " 5)A3_5                          0.070964\n",
      " 6)A3_6                          0.065535\n",
      " 7)A3_7                          0.057207\n",
      " 8)A3_8                          0.057146\n",
      " 9)A3_9                          0.050757\n",
      "10)A3_10                         0.049969\n",
      "11)A3_11                         0.043977\n",
      "12)A3_12                         0.035852\n",
      "13)A3_13                         0.033530\n",
      "14)A3_14                         0.032207\n",
      "15)A3_15                         0.030401\n",
      "16)A3_16                         0.025749\n",
      "17)A3_17                         0.021521\n",
      "18)A3_18                         0.017348\n",
      "19)A3_19                         0.012845\n",
      "20)A3_20                         0.012494\n",
      "21)A3_21                         0.009166\n"
     ]
    },
    {
     "data": {
      "image/png": "[encoded data removed]",
      "text/plain": [
       "<Figure size 432x288 with 1 Axes>"
      ]
     },
     "metadata": {},
     "output_type": "display_data"
    }
   ],
   "source": [
    "X = df남_3.drop('label', axis=1)\n",
    "y = df남_3.label\n",
    "features_label = df남_3.columns\n",
    "forest = RandomForestClassifier(n_estimators = 500, random_state = 40, n_jobs = -1)\n",
    "forest.fit(X,y)\n",
    "importances = forest.feature_importances_\n",
    "indices = np.argsort(importances)[::-1]\n",
    "for i in range(X.shape[1]):\n",
    "     print('%2d)%-*s%f'%(i+1, 30, features_label[i], importances[indices[i]]))\n",
    "        \n",
    "plt.title('Feature Importances')\n",
    "plt.bar(range(X.shape[1]), importances[indices], color='blue', align='center')\n",
    "plt.xticks(range(X.shape[1]), features_label, rotation=90)\n",
    "plt.xlim([-1, X.shape[1]])\n",
    "plt.show()"
   ]
  },
  {
   "cell_type": "code",
   "execution_count": 184,
   "metadata": {},
   "outputs": [
    {
     "name": "stdout",
     "output_type": "stream",
     "text": [
      " 1)A3_1                          0.111510\n",
      " 2)A3_2                          0.104304\n",
      " 3)A3_3                          0.103549\n",
      " 4)A3_4                          0.083803\n",
      " 5)A3_5                          0.078234\n",
      " 6)A3_6                          0.067590\n",
      " 7)A3_7                          0.057472\n",
      " 8)A3_8                          0.052596\n",
      " 9)A3_9                          0.051005\n",
      "10)A3_10                         0.049699\n",
      "11)A3_11                         0.047694\n",
      "12)A3_12                         0.040564\n",
      "13)A3_13                         0.036281\n",
      "14)A3_14                         0.031691\n",
      "15)A3_15                         0.022811\n",
      "16)A3_16                         0.022065\n",
      "17)A3_17                         0.013608\n",
      "18)A3_18                         0.009876\n",
      "19)A3_19                         0.009503\n",
      "20)A3_20                         0.003583\n",
      "21)A3_21                         0.002565\n"
     ]
    },
    {
     "data": {
      "image/png": "[encoded data removed]",
      "text/plain": [
       "<Figure size 432x288 with 1 Axes>"
      ]
     },
     "metadata": {},
     "output_type": "display_data"
    }
   ],
   "source": [
    "X = df여_2.drop('label', axis=1)\n",
    "y = df여_2.label\n",
    "features_label = df여_2.columns\n",
    "forest = RandomForestClassifier(n_estimators = 500, random_state = 0, n_jobs = -1)\n",
    "forest.fit(X,y)\n",
    "importances = forest.feature_importances_\n",
    "indices = np.argsort(importances)[::-1]\n",
    "for i in range(X.shape[1]):\n",
    "     print('%2d)%-*s%f'%(i+1, 30, features_label[i], importances[indices[i]]))\n",
    "        \n",
    "plt.title('Feature Importances')\n",
    "plt.bar(range(X.shape[1]), importances[indices], color='green', align='center')\n",
    "plt.xticks(range(X.shape[1]), features_label, rotation=90)\n",
    "plt.xlim([-1, X.shape[1]])\n",
    "plt.show()"
   ]
  },
  {
   "cell_type": "code",
   "execution_count": 185,
   "metadata": {},
   "outputs": [
    {
     "name": "stdout",
     "output_type": "stream",
     "text": [
      " 1)A3_1                          0.112905\n",
      " 2)A3_2                          0.109223\n",
      " 3)A3_3                          0.094629\n",
      " 4)A3_4                          0.070025\n",
      " 5)A3_5                          0.063571\n",
      " 6)A3_6                          0.059030\n",
      " 7)A3_7                          0.057550\n",
      " 8)A3_8                          0.052379\n",
      " 9)A3_9                          0.052019\n",
      "10)A3_10                         0.051322\n",
      "11)A3_11                         0.049472\n",
      "12)A3_12                         0.048334\n",
      "13)A3_13                         0.034801\n",
      "14)A3_14                         0.032939\n",
      "15)A3_15                         0.031472\n",
      "16)A3_16                         0.024593\n",
      "17)A3_17                         0.022829\n",
      "18)A3_18                         0.019649\n",
      "19)A3_19                         0.011774\n",
      "20)A3_20                         0.001301\n",
      "21)A3_21                         0.000185\n"
     ]
    },
    {
     "data": {
      "image/png": "[encoded data removed]",
      "text/plain": [
       "<Figure size 432x288 with 1 Axes>"
      ]
     },
     "metadata": {},
     "output_type": "display_data"
    }
   ],
   "source": [
    "X = df여_3.drop('label', axis=1)\n",
    "y = df여_3.label\n",
    "features_label = df여_3.columns\n",
    "forest = RandomForestClassifier(n_estimators = 500, random_state = 0, n_jobs = -1)\n",
    "forest.fit(X,y)\n",
    "importances = forest.feature_importances_\n",
    "indices = np.argsort(importances)[::-1]\n",
    "for i in range(X.shape[1]):\n",
    "     print('%2d)%-*s%f'%(i+1, 30, features_label[i], importances[indices[i]]))\n",
    "        \n",
    "plt.title('Feature Importances')\n",
    "plt.bar(range(X.shape[1]), importances[indices], color='purple', align='center')\n",
    "plt.xticks(range(X.shape[1]), features_label, rotation=90)\n",
    "plt.xlim([-1, X.shape[1]])\n",
    "plt.show()"
   ]
  },
  {
   "cell_type": "code",
   "execution_count": 167,
   "metadata": {},
   "outputs": [
    {
     "name": "stdout",
     "output_type": "stream",
     "text": [
      "A3_1 0.11024919968099861\n",
      "A3_2 0.10394519989559135\n",
      "A3_3 0.09855924886265288\n",
      "A3_4 0.06947185336347059\n",
      "A3_5 0.0628980209775635\n",
      "A3_6 0.05877516112769441\n",
      "A3_7 0.0586469757636295\n",
      "A3_8 0.05341339743066504\n",
      "A3_9 0.05219008512810929\n",
      "A3_10 0.0516630469240337\n",
      "A3_11 0.0493409706180627\n",
      "A3_12 0.04908013088448653\n",
      "A3_13 0.03392005571641664\n",
      "A3_14 0.03348787729438398\n",
      "A3_15 0.03323354951853516\n",
      "A3_16 0.025288556813959626\n",
      "A3_17 0.02254341531766155\n",
      "A3_18 0.019814858583552634\n",
      "A3_19 0.01190418037593927\n",
      "A3_20 0.0013950797207064828\n",
      "A3_21 0.00017913600188657034\n"
     ]
    }
   ],
   "source": [
    "for i in range(X.shape[1]):\n",
    "     print('%2d)%-*s%f'%(i+1, 30, features_label[i], importances[indices[i]]))"
   ]
  }
 ],
 "metadata": {
  "kernelspec": {
   "display_name": "Python 3",
   "language": "python",
   "name": "python3"
  },
  "language_info": {
   "codemirror_mode": {
    "name": "ipython",
    "version": 3
   },
   "file_extension": ".py",
   "mimetype": "text/x-python",
   "name": "python",
   "nbconvert_exporter": "python",
   "pygments_lexer": "ipython3",
   "version": "3.7.6"
  }
 },
 "nbformat": 4,
 "nbformat_minor": 4
}
