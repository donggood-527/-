{
 "cells": [
  {
   "cell_type": "code",
   "execution_count": 2,
   "metadata": {},
   "outputs": [],
   "source": [
    "import pandas as pd"
   ]
  },
  {
   "cell_type": "code",
   "execution_count": 3,
   "metadata": {},
   "outputs": [],
   "source": [
    "df = pd.read_csv('./csv_file/국민여행조사3.csv')"
   ]
  },
  {
   "cell_type": "code",
   "execution_count": 4,
   "metadata": {},
   "outputs": [],
   "source": [
    "df_여행 = df[['ID', 'A2_1', 'A2_2', 'A2_3', 'BSEX', 'BAGE', 'label']]"
   ]
  },
  {
   "cell_type": "code",
   "execution_count": 5,
   "metadata": {},
   "outputs": [],
   "source": [
    "df_t = df_여행[(df_여행['BAGE'] == 2) | (df_여행['BAGE'] == 3)]"
   ]
  },
  {
   "cell_type": "code",
   "execution_count": 6,
   "metadata": {},
   "outputs": [],
   "source": [
    "df_t = df_t.reset_index(drop=True)"
   ]
  },
  {
   "cell_type": "code",
   "execution_count": 7,
   "metadata": {},
   "outputs": [],
   "source": [
    "A01 = []\n",
    "A02 = []\n",
    "A03 = []\n",
    "A04 = []\n",
    "A05 = []\n",
    "A06 = []\n",
    "A07 = []\n",
    "A08 = []\n",
    "A09 = []\n",
    "A10 = []\n",
    "A11 = []\n",
    "A12 = []\n",
    "A13 = []\n",
    "A14 = []\n",
    "A15 = []\n",
    "for i in range(len(df_t)):\n",
    "    A01.append(0)\n",
    "    A02.append(0)\n",
    "    A03.append(0)\n",
    "    A04.append(0)\n",
    "    A05.append(0)\n",
    "    A06.append(0)\n",
    "    A07.append(0)\n",
    "    A08.append(0)\n",
    "    A09.append(0)\n",
    "    A10.append(0)\n",
    "    A11.append(0)\n",
    "    A12.append(0)\n",
    "    A13.append(0)\n",
    "    A14.append(0)\n",
    "    A15.append(0)"
   ]
  },
  {
   "cell_type": "code",
   "execution_count": 8,
   "metadata": {},
   "outputs": [],
   "source": [
    "for i in range(len(df_t)):\n",
    "    if df_t['A2_1'][i] == 1:\n",
    "        A01[i] += 5\n",
    "    elif df_t['A2_1'][i] == 2:\n",
    "        A02[i] += 5\n",
    "    elif df_t['A2_1'][i] == 3:\n",
    "        A03[i] += 5\n",
    "    elif df_t['A2_1'][i] == 4:\n",
    "        A04[i] += 5\n",
    "    elif df_t['A2_1'][i] == 5:\n",
    "        A05[i] += 5\n",
    "    elif df_t['A2_1'][i] == 6:\n",
    "        A06[i] += 5\n",
    "    elif df_t['A2_1'][i] == 7:\n",
    "        A07[i] += 5\n",
    "    elif df_t['A2_1'][i] == 8:\n",
    "        A08[i] += 5\n",
    "    elif df_t['A2_1'][i] == 9:\n",
    "        A09[i] += 5\n",
    "    elif df_t['A2_1'][i] == 10:\n",
    "        A10[i] += 5\n",
    "    elif df_t['A2_1'][i] == 11:\n",
    "        A11[i] += 5\n",
    "    elif df_t['A2_1'][i] == 12:\n",
    "        A12[i] += 5\n",
    "    elif df_t['A2_1'][i] == 13:\n",
    "        A13[i] += 5\n",
    "    elif df_t['A2_1'][i] == 14:\n",
    "        A14[i] += 5\n",
    "    elif df_t['A2_1'][i] == 15:\n",
    "        A15[i] += 5"
   ]
  },
  {
   "cell_type": "code",
   "execution_count": 9,
   "metadata": {},
   "outputs": [],
   "source": [
    "for i in range(len(df_t)):\n",
    "    if df_t['A2_2'][i] == '1':\n",
    "        A01[i] += 3\n",
    "    elif df_t['A2_2'][i] == '2':\n",
    "        A02[i] += 3\n",
    "    elif df_t['A2_2'][i] == '3':\n",
    "        A03[i] += 3\n",
    "    elif df_t['A2_2'][i] == '4':\n",
    "        A04[i] += 3\n",
    "    elif df_t['A2_2'][i] == '5':\n",
    "        A05[i] += 3\n",
    "    elif df_t['A2_2'][i] == '6':\n",
    "        A06[i] += 3\n",
    "    elif df_t['A2_2'][i] == '7':\n",
    "        A07[i] += 3\n",
    "    elif df_t['A2_2'][i] == '8':\n",
    "        A08[i] += 3\n",
    "    elif df_t['A2_2'][i] == '9':\n",
    "        A09[i] += 3\n",
    "    elif df_t['A2_2'][i] == '10':\n",
    "        A10[i] += 3\n",
    "    elif df_t['A2_2'][i] == '11':\n",
    "        A11[i] += 3\n",
    "    elif df_t['A2_2'][i] == '12':\n",
    "        A12[i] += 3\n",
    "    elif df_t['A2_2'][i] == '13':\n",
    "        A13[i] += 3\n",
    "    elif df_t['A2_2'][i] == '14':\n",
    "        A14[i] += 3\n",
    "    elif df_t['A2_2'][i] == '15':\n",
    "        A15[i] += 3"
   ]
  },
  {
   "cell_type": "code",
   "execution_count": 10,
   "metadata": {},
   "outputs": [],
   "source": [
    "for i in range(len(df_t)):\n",
    "    if df_t['A2_3'][i] == '1':\n",
    "        A01[i] += 1\n",
    "    elif df_t['A2_3'][i] == '2':\n",
    "        A02[i] += 1\n",
    "    elif df_t['A2_3'][i] == '3':\n",
    "        A03[i] += 1\n",
    "    elif df_t['A2_3'][i] == '4':\n",
    "        A04[i] += 1\n",
    "    elif df_t['A2_3'][i] == '5':\n",
    "        A05[i] += 1\n",
    "    elif df_t['A2_3'][i] == '6':\n",
    "        A06[i] += 1\n",
    "    elif df_t['A2_3'][i] == '7':\n",
    "        A07[i] += 1\n",
    "    elif df_t['A2_3'][i] == '8':\n",
    "        A08[i] += 1\n",
    "    elif df_t['A2_3'][i] == '9':\n",
    "        A09[i] += 1\n",
    "    elif df_t['A2_3'][i] == '10':\n",
    "        A10[i] += 1\n",
    "    elif df_t['A2_3'][i] == '11':\n",
    "        A11[i] += 1\n",
    "    elif df_t['A2_3'][i] == '12':\n",
    "        A12[i] += 1\n",
    "    elif df_t['A2_3'][i] == '13':\n",
    "        A13[i] += 1\n",
    "    elif df_t['A2_3'][i] == '14':\n",
    "        A14[i] += 1\n",
    "    elif df_t['A2_3'][i] == '15':\n",
    "        A15[i] += 1"
   ]
  },
  {
   "cell_type": "code",
   "execution_count": 11,
   "metadata": {},
   "outputs": [],
   "source": [
    "A = pd.DataFrame({'A01' : A01,'A02' : A02, 'A03' : A03,'A04' : A04,'A05' : A05,\n",
    "                  'A06' : A06, 'A07' : A07, 'A08' : A08, 'A09' : A09, 'A10' : A10, 'A11' : A11, 'A12' : A12,\n",
    "                  'A13' : A13, 'A14' : A14, 'A15' : A15})"
   ]
  },
  {
   "cell_type": "code",
   "execution_count": 12,
   "metadata": {},
   "outputs": [],
   "source": [
    "df_t = pd.merge(df_t, A, left_index=True, right_index=True, how='left')"
   ]
  },
  {
   "cell_type": "code",
   "execution_count": 13,
   "metadata": {},
   "outputs": [],
   "source": [
    "df_s = df_t.drop(['A2_1', 'A2_2', 'A2_3', 'BSEX', 'BAGE'], axis=1)"
   ]
  },
  {
   "cell_type": "code",
   "execution_count": 14,
   "metadata": {},
   "outputs": [
    {
     "data": {
      "text/html": [
       "<div>\n",
       "<style scoped>\n",
       "    .dataframe tbody tr th:only-of-type {\n",
       "        vertical-align: middle;\n",
       "    }\n",
       "\n",
       "    .dataframe tbody tr th {\n",
       "        vertical-align: top;\n",
       "    }\n",
       "\n",
       "    .dataframe thead th {\n",
       "        text-align: right;\n",
       "    }\n",
       "</style>\n",
       "<table border=\"1\" class=\"dataframe\">\n",
       "  <thead>\n",
       "    <tr style=\"text-align: right;\">\n",
       "      <th></th>\n",
       "      <th>ID</th>\n",
       "      <th>label</th>\n",
       "      <th>A01</th>\n",
       "      <th>A02</th>\n",
       "      <th>A03</th>\n",
       "      <th>A04</th>\n",
       "      <th>A05</th>\n",
       "      <th>A06</th>\n",
       "      <th>A07</th>\n",
       "      <th>A08</th>\n",
       "      <th>A09</th>\n",
       "      <th>A10</th>\n",
       "      <th>A11</th>\n",
       "      <th>A12</th>\n",
       "      <th>A13</th>\n",
       "      <th>A14</th>\n",
       "      <th>A15</th>\n",
       "    </tr>\n",
       "  </thead>\n",
       "  <tbody>\n",
       "    <tr>\n",
       "      <th>0</th>\n",
       "      <td>11010550341_1000000</td>\n",
       "      <td>1</td>\n",
       "      <td>5</td>\n",
       "      <td>1</td>\n",
       "      <td>0</td>\n",
       "      <td>0</td>\n",
       "      <td>0</td>\n",
       "      <td>0</td>\n",
       "      <td>0</td>\n",
       "      <td>0</td>\n",
       "      <td>0</td>\n",
       "      <td>0</td>\n",
       "      <td>3</td>\n",
       "      <td>0</td>\n",
       "      <td>0</td>\n",
       "      <td>0</td>\n",
       "      <td>0</td>\n",
       "    </tr>\n",
       "    <tr>\n",
       "      <th>1</th>\n",
       "      <td>1101057010A_1000056</td>\n",
       "      <td>1</td>\n",
       "      <td>0</td>\n",
       "      <td>0</td>\n",
       "      <td>0</td>\n",
       "      <td>0</td>\n",
       "      <td>0</td>\n",
       "      <td>0</td>\n",
       "      <td>0</td>\n",
       "      <td>0</td>\n",
       "      <td>0</td>\n",
       "      <td>0</td>\n",
       "      <td>0</td>\n",
       "      <td>5</td>\n",
       "      <td>0</td>\n",
       "      <td>0</td>\n",
       "      <td>0</td>\n",
       "    </tr>\n",
       "    <tr>\n",
       "      <th>2</th>\n",
       "      <td>11010570431_1030412</td>\n",
       "      <td>0</td>\n",
       "      <td>0</td>\n",
       "      <td>0</td>\n",
       "      <td>0</td>\n",
       "      <td>5</td>\n",
       "      <td>3</td>\n",
       "      <td>0</td>\n",
       "      <td>0</td>\n",
       "      <td>0</td>\n",
       "      <td>0</td>\n",
       "      <td>0</td>\n",
       "      <td>1</td>\n",
       "      <td>0</td>\n",
       "      <td>0</td>\n",
       "      <td>0</td>\n",
       "      <td>0</td>\n",
       "    </tr>\n",
       "    <tr>\n",
       "      <th>3</th>\n",
       "      <td>11010570431_1030413</td>\n",
       "      <td>1</td>\n",
       "      <td>3</td>\n",
       "      <td>0</td>\n",
       "      <td>0</td>\n",
       "      <td>0</td>\n",
       "      <td>0</td>\n",
       "      <td>0</td>\n",
       "      <td>0</td>\n",
       "      <td>5</td>\n",
       "      <td>0</td>\n",
       "      <td>1</td>\n",
       "      <td>0</td>\n",
       "      <td>0</td>\n",
       "      <td>0</td>\n",
       "      <td>0</td>\n",
       "      <td>0</td>\n",
       "    </tr>\n",
       "    <tr>\n",
       "      <th>4</th>\n",
       "      <td>11010570431_1030441</td>\n",
       "      <td>1</td>\n",
       "      <td>0</td>\n",
       "      <td>0</td>\n",
       "      <td>0</td>\n",
       "      <td>1</td>\n",
       "      <td>5</td>\n",
       "      <td>0</td>\n",
       "      <td>0</td>\n",
       "      <td>3</td>\n",
       "      <td>0</td>\n",
       "      <td>0</td>\n",
       "      <td>0</td>\n",
       "      <td>0</td>\n",
       "      <td>0</td>\n",
       "      <td>0</td>\n",
       "      <td>0</td>\n",
       "    </tr>\n",
       "    <tr>\n",
       "      <th>...</th>\n",
       "      <td>...</td>\n",
       "      <td>...</td>\n",
       "      <td>...</td>\n",
       "      <td>...</td>\n",
       "      <td>...</td>\n",
       "      <td>...</td>\n",
       "      <td>...</td>\n",
       "      <td>...</td>\n",
       "      <td>...</td>\n",
       "      <td>...</td>\n",
       "      <td>...</td>\n",
       "      <td>...</td>\n",
       "      <td>...</td>\n",
       "      <td>...</td>\n",
       "      <td>...</td>\n",
       "      <td>...</td>\n",
       "      <td>...</td>\n",
       "    </tr>\n",
       "    <tr>\n",
       "      <th>6762</th>\n",
       "      <td>39020550051_1093768</td>\n",
       "      <td>0</td>\n",
       "      <td>0</td>\n",
       "      <td>0</td>\n",
       "      <td>0</td>\n",
       "      <td>5</td>\n",
       "      <td>3</td>\n",
       "      <td>0</td>\n",
       "      <td>0</td>\n",
       "      <td>0</td>\n",
       "      <td>0</td>\n",
       "      <td>0</td>\n",
       "      <td>0</td>\n",
       "      <td>0</td>\n",
       "      <td>0</td>\n",
       "      <td>1</td>\n",
       "      <td>0</td>\n",
       "    </tr>\n",
       "    <tr>\n",
       "      <th>6763</th>\n",
       "      <td>3902057051A_1221662</td>\n",
       "      <td>1</td>\n",
       "      <td>0</td>\n",
       "      <td>0</td>\n",
       "      <td>3</td>\n",
       "      <td>0</td>\n",
       "      <td>5</td>\n",
       "      <td>0</td>\n",
       "      <td>0</td>\n",
       "      <td>0</td>\n",
       "      <td>1</td>\n",
       "      <td>0</td>\n",
       "      <td>0</td>\n",
       "      <td>0</td>\n",
       "      <td>0</td>\n",
       "      <td>0</td>\n",
       "      <td>0</td>\n",
       "    </tr>\n",
       "    <tr>\n",
       "      <th>6764</th>\n",
       "      <td>3902057051A_1221675</td>\n",
       "      <td>1</td>\n",
       "      <td>0</td>\n",
       "      <td>5</td>\n",
       "      <td>1</td>\n",
       "      <td>0</td>\n",
       "      <td>3</td>\n",
       "      <td>0</td>\n",
       "      <td>0</td>\n",
       "      <td>0</td>\n",
       "      <td>0</td>\n",
       "      <td>0</td>\n",
       "      <td>0</td>\n",
       "      <td>0</td>\n",
       "      <td>0</td>\n",
       "      <td>0</td>\n",
       "      <td>0</td>\n",
       "    </tr>\n",
       "    <tr>\n",
       "      <th>6765</th>\n",
       "      <td>3902057053A_1189804</td>\n",
       "      <td>0</td>\n",
       "      <td>0</td>\n",
       "      <td>1</td>\n",
       "      <td>0</td>\n",
       "      <td>0</td>\n",
       "      <td>5</td>\n",
       "      <td>0</td>\n",
       "      <td>0</td>\n",
       "      <td>0</td>\n",
       "      <td>0</td>\n",
       "      <td>0</td>\n",
       "      <td>0</td>\n",
       "      <td>0</td>\n",
       "      <td>0</td>\n",
       "      <td>3</td>\n",
       "      <td>0</td>\n",
       "    </tr>\n",
       "    <tr>\n",
       "      <th>6766</th>\n",
       "      <td>3902061022A_1382196</td>\n",
       "      <td>1</td>\n",
       "      <td>0</td>\n",
       "      <td>0</td>\n",
       "      <td>5</td>\n",
       "      <td>0</td>\n",
       "      <td>3</td>\n",
       "      <td>0</td>\n",
       "      <td>0</td>\n",
       "      <td>0</td>\n",
       "      <td>1</td>\n",
       "      <td>0</td>\n",
       "      <td>0</td>\n",
       "      <td>0</td>\n",
       "      <td>0</td>\n",
       "      <td>0</td>\n",
       "      <td>0</td>\n",
       "    </tr>\n",
       "  </tbody>\n",
       "</table>\n",
       "<p>6767 rows × 17 columns</p>\n",
       "</div>"
      ],
      "text/plain": [
       "                       ID  label  A01  A02  A03  A04  A05  A06  A07  A08  A09  \\\n",
       "0     11010550341_1000000      1    5    1    0    0    0    0    0    0    0   \n",
       "1     1101057010A_1000056      1    0    0    0    0    0    0    0    0    0   \n",
       "2     11010570431_1030412      0    0    0    0    5    3    0    0    0    0   \n",
       "3     11010570431_1030413      1    3    0    0    0    0    0    0    5    0   \n",
       "4     11010570431_1030441      1    0    0    0    1    5    0    0    3    0   \n",
       "...                   ...    ...  ...  ...  ...  ...  ...  ...  ...  ...  ...   \n",
       "6762  39020550051_1093768      0    0    0    0    5    3    0    0    0    0   \n",
       "6763  3902057051A_1221662      1    0    0    3    0    5    0    0    0    1   \n",
       "6764  3902057051A_1221675      1    0    5    1    0    3    0    0    0    0   \n",
       "6765  3902057053A_1189804      0    0    1    0    0    5    0    0    0    0   \n",
       "6766  3902061022A_1382196      1    0    0    5    0    3    0    0    0    1   \n",
       "\n",
       "      A10  A11  A12  A13  A14  A15  \n",
       "0       0    3    0    0    0    0  \n",
       "1       0    0    5    0    0    0  \n",
       "2       0    1    0    0    0    0  \n",
       "3       1    0    0    0    0    0  \n",
       "4       0    0    0    0    0    0  \n",
       "...   ...  ...  ...  ...  ...  ...  \n",
       "6762    0    0    0    0    1    0  \n",
       "6763    0    0    0    0    0    0  \n",
       "6764    0    0    0    0    0    0  \n",
       "6765    0    0    0    0    3    0  \n",
       "6766    0    0    0    0    0    0  \n",
       "\n",
       "[6767 rows x 17 columns]"
      ]
     },
     "execution_count": 14,
     "metadata": {},
     "output_type": "execute_result"
    }
   ],
   "source": [
    "df_s"
   ]
  },
  {
   "cell_type": "code",
   "execution_count": 15,
   "metadata": {
    "scrolled": true
   },
   "outputs": [],
   "source": [
    "from sklearn.ensemble import RandomForestClassifier\n",
    "from sklearn.model_selection import train_test_split\n",
    "from sklearn import metrics\n",
    "import matplotlib.pyplot as plt\n",
    "import seaborn as sns"
   ]
  },
  {
   "cell_type": "code",
   "execution_count": 16,
   "metadata": {},
   "outputs": [],
   "source": [
    "X = df_s.drop(['ID', 'label'], axis=1)\n",
    "y = df_s.label\n",
    "X_train, X_test, y_train, y_test = train_test_split(X, y, test_size = 0.25)"
   ]
  },
  {
   "cell_type": "code",
   "execution_count": 17,
   "metadata": {},
   "outputs": [
    {
     "data": {
      "text/plain": [
       "RandomForestClassifier(bootstrap=True, ccp_alpha=0.0, class_weight=None,\n",
       "                       criterion='gini', max_depth=None, max_features='auto',\n",
       "                       max_leaf_nodes=None, max_samples=None,\n",
       "                       min_impurity_decrease=0.0, min_impurity_split=None,\n",
       "                       min_samples_leaf=1, min_samples_split=3,\n",
       "                       min_weight_fraction_leaf=0.0, n_estimators=10, n_jobs=1,\n",
       "                       oob_score=False, random_state=None, verbose=0,\n",
       "                       warm_start=False)"
      ]
     },
     "execution_count": 17,
     "metadata": {},
     "output_type": "execute_result"
    }
   ],
   "source": [
    "rfMod = RandomForestClassifier(n_estimators=10, criterion='gini', max_depth=None, min_samples_split=3,\n",
    "                              min_samples_leaf=1, min_weight_fraction_leaf=0.0, max_features='auto',\n",
    "                              max_leaf_nodes=None, bootstrap=True, oob_score=False, n_jobs=1, random_state=None,\n",
    "                              verbose=0)\n",
    "rfMod.fit(X_train, y_train)"
   ]
  },
  {
   "cell_type": "code",
   "execution_count": 18,
   "metadata": {},
   "outputs": [
    {
     "data": {
      "text/plain": [
       "0.8620689655172413"
      ]
     },
     "execution_count": 18,
     "metadata": {},
     "output_type": "execute_result"
    }
   ],
   "source": [
    "rfMod.score(X_train, y_train)"
   ]
  },
  {
   "cell_type": "code",
   "execution_count": 19,
   "metadata": {},
   "outputs": [],
   "source": [
    "y_pred = rfMod.predict(X_test)"
   ]
  },
  {
   "cell_type": "code",
   "execution_count": 20,
   "metadata": {},
   "outputs": [
    {
     "name": "stdout",
     "output_type": "stream",
     "text": [
      "정확도 : 0.8286052009456265\n"
     ]
    }
   ],
   "source": [
    "print('정확도 :', metrics.accuracy_score(y_test, y_pred))"
   ]
  },
  {
   "cell_type": "code",
   "execution_count": 21,
   "metadata": {},
   "outputs": [],
   "source": [
    "df_s2 = df_s.drop(['ID', 'label'], axis=1)"
   ]
  },
  {
   "cell_type": "code",
   "execution_count": 22,
   "metadata": {},
   "outputs": [
    {
     "name": "stdout",
     "output_type": "stream",
     "text": [
      " 1)A01                           0.092255\n",
      " 2)A02                           0.085522\n",
      " 3)A03                           0.084673\n",
      " 4)A04                           0.084369\n",
      " 5)A05                           0.082222\n",
      " 6)A06                           0.082206\n",
      " 7)A07                           0.082159\n",
      " 8)A08                           0.081041\n",
      " 9)A09                           0.070317\n",
      "10)A10                           0.061488\n",
      "11)A11                           0.050540\n",
      "12)A12                           0.048590\n",
      "13)A13                           0.042941\n",
      "14)A14                           0.036403\n",
      "15)A15                           0.015272\n"
     ]
    },
    {
     "data": {
      "image/png": "[encoded data removed]",
      "text/plain": [
       "<Figure size 432x288 with 1 Axes>"
      ]
     },
     "metadata": {
      "needs_background": "light"
     },
     "output_type": "display_data"
    }
   ],
   "source": [
    "import numpy as np\n",
    "X = df_s.drop(['ID', 'label'], axis=1)\n",
    "y = df_s.label\n",
    "features_label = df_s2.columns\n",
    "forest = RandomForestClassifier(n_estimators = 3000, random_state = 30, n_jobs = -1)\n",
    "forest.fit(X,y)\n",
    "importances = forest.feature_importances_\n",
    "indices = np.argsort(importances)[::-1]\n",
    "for i in range(X.shape[1]):\n",
    "     print('%2d)%-*s%f'%(i+1, 30, features_label[i], importances[indices[i]]))\n",
    "plt.title('Feature Importances')\n",
    "plt.bar(range(X.shape[1]), importances[indices], color='deepskyblue', align='center')\n",
    "plt.xticks(range(X.shape[1]), features_label, rotation=90)\n",
    "plt.xlim([-1, X.shape[1]])\n",
    "plt.show()"
   ]
  },
  {
   "cell_type": "code",
   "execution_count": 23,
   "metadata": {},
   "outputs": [],
   "source": [
    "df_s.to_csv('./csv_file/국내여행선정기준.csv')"
   ]
  }
 ],
 "metadata": {
  "kernelspec": {
   "display_name": "Python 3",
   "language": "python",
   "name": "python3"
  },
  "language_info": {
   "codemirror_mode": {
    "name": "ipython",
    "version": 3
   },
   "file_extension": ".py",
   "mimetype": "text/x-python",
   "name": "python",
   "nbconvert_exporter": "python",
   "pygments_lexer": "ipython3",
   "version": "3.7.6"
  }
 },
 "nbformat": 4,
 "nbformat_minor": 4
}
