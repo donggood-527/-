{
 "cells": [
  {
   "cell_type": "code",
   "execution_count": 2,
   "metadata": {},
   "outputs": [],
   "source": [
    "import pandas as pd"
   ]
  },
  {
   "cell_type": "code",
   "execution_count": 54,
   "metadata": {},
   "outputs": [],
   "source": [
    "df = pd.read_csv('./csv_file/국민여행조사_여행지역.csv', encoding='utf-8')\n",
    "df1 = pd.read_csv('./csv_file/국민여행조사3.csv')"
   ]
  },
  {
   "cell_type": "code",
   "execution_count": 55,
   "metadata": {},
   "outputs": [
    {
     "data": {
      "text/plain": [
       "Index(['ID', 'MON_EXP_1', 'D_TRA1_1_SPOT1', 'BSEX', 'BAGE', 'BARA'], dtype='object')"
      ]
     },
     "execution_count": 55,
     "metadata": {},
     "output_type": "execute_result"
    }
   ],
   "source": [
    "df.columns"
   ]
  },
  {
   "cell_type": "code",
   "execution_count": 56,
   "metadata": {},
   "outputs": [
    {
     "data": {
      "text/plain": [
       "Index(['ID', 'A2_1', 'A2_2', 'A2_3', 'A3_1', 'A3_2', 'A3_3', 'A3_4', 'A3_5',\n",
       "       'A3_6', 'A3_7', 'A3_8', 'A3_9', 'A3_10', 'A3_11', 'A3_12', 'A3_13',\n",
       "       'A3_14', 'A3_15', 'A3_16', 'A3_17', 'A3_18', 'A3_19', 'A3_20', 'A3_21',\n",
       "       'A4_1', 'A4_2', 'A4_3', 'A4A_1', 'A4A_2', 'A4A_3', 'A12', 'A13', 'A14',\n",
       "       'BSEX', 'BAGE', 'label', 'travel'],\n",
       "      dtype='object')"
      ]
     },
     "execution_count": 56,
     "metadata": {},
     "output_type": "execute_result"
    }
   ],
   "source": [
    "df1.columns"
   ]
  },
  {
   "cell_type": "code",
   "execution_count": 57,
   "metadata": {},
   "outputs": [],
   "source": [
    "df1 = df1.drop(['BSEX', 'BAGE'], axis=1)"
   ]
  },
  {
   "cell_type": "code",
   "execution_count": 58,
   "metadata": {},
   "outputs": [],
   "source": [
    "df = pd.merge(df, df1, on='ID', how='left')"
   ]
  },
  {
   "cell_type": "code",
   "execution_count": 59,
   "metadata": {},
   "outputs": [],
   "source": [
    "# 국민여행조사에서 20, 30대 남녀만 추출\n",
    "# 여행만족도 라벨이 1인 값만 추출\n",
    "# 여행 선정기준 1,2,3에 따라 국내 어느 지역을 여행했는지 추출\n",
    "# 결정트리를 통해 "
   ]
  },
  {
   "cell_type": "code",
   "execution_count": 60,
   "metadata": {},
   "outputs": [],
   "source": [
    "df = df[df['MON_EXP_1'] == 1]\n",
    "df = df[df['label'] == 1]\n",
    "df = df[(df['BAGE'] == 2) | (df['BAGE'] == 3)]\n",
    "df = df.reset_index(drop=True)"
   ]
  },
  {
   "cell_type": "code",
   "execution_count": 61,
   "metadata": {},
   "outputs": [
    {
     "data": {
      "text/plain": [
       "Index(['ID', 'MON_EXP_1', 'D_TRA1_1_SPOT1', 'BSEX', 'BAGE', 'BARA', 'A2_1',\n",
       "       'A2_2', 'A2_3', 'A3_1', 'A3_2', 'A3_3', 'A3_4', 'A3_5', 'A3_6', 'A3_7',\n",
       "       'A3_8', 'A3_9', 'A3_10', 'A3_11', 'A3_12', 'A3_13', 'A3_14', 'A3_15',\n",
       "       'A3_16', 'A3_17', 'A3_18', 'A3_19', 'A3_20', 'A3_21', 'A4_1', 'A4_2',\n",
       "       'A4_3', 'A4A_1', 'A4A_2', 'A4A_3', 'A12', 'A13', 'A14', 'label',\n",
       "       'travel'],\n",
       "      dtype='object')"
      ]
     },
     "execution_count": 61,
     "metadata": {},
     "output_type": "execute_result"
    }
   ],
   "source": [
    "df.columns"
   ]
  },
  {
   "cell_type": "code",
   "execution_count": 67,
   "metadata": {},
   "outputs": [],
   "source": [
    "import math\n",
    "A = []\n",
    "for i in range(len(df)):\n",
    "    A.append(str(math.trunc(df['A2_1'][i])))"
   ]
  },
  {
   "cell_type": "code",
   "execution_count": 69,
   "metadata": {},
   "outputs": [],
   "source": [
    "df['A2_1'] = A"
   ]
  },
  {
   "cell_type": "code",
   "execution_count": 71,
   "metadata": {},
   "outputs": [],
   "source": [
    "df = df.filter(['A2_1', 'A2_2', 'A2_3', 'D_TRA1_1_SPOT1'])"
   ]
  },
  {
   "cell_type": "code",
   "execution_count": 74,
   "metadata": {},
   "outputs": [],
   "source": [
    "df.to_csv('./csv_file/의사결정트리_여행지역.csv')"
   ]
  },
  {
   "cell_type": "code",
   "execution_count": 75,
   "metadata": {},
   "outputs": [
    {
     "data": {
      "text/plain": [
       "21090    277\n",
       "37020    236\n",
       "39020    210\n",
       "32030    190\n",
       "32060    173\n",
       "        ... \n",
       "38380      1\n",
       "22040      1\n",
       "23080      1\n",
       "11080      1\n",
       "38310      1\n",
       "Name: D_TRA1_1_SPOT1, Length: 227, dtype: int64"
      ]
     },
     "execution_count": 75,
     "metadata": {},
     "output_type": "execute_result"
    }
   ],
   "source": [
    "df.D_TRA1_1_SPOT1.value_counts()"
   ]
  }
 ],
 "metadata": {
  "kernelspec": {
   "display_name": "Python 3",
   "language": "python",
   "name": "python3"
  },
  "language_info": {
   "codemirror_mode": {
    "name": "ipython",
    "version": 3
   },
   "file_extension": ".py",
   "mimetype": "text/x-python",
   "name": "python",
   "nbconvert_exporter": "python",
   "pygments_lexer": "ipython3",
   "version": "3.7.6"
  }
 },
 "nbformat": 4,
 "nbformat_minor": 4
}
