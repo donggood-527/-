{
 "cells": [
  {
   "cell_type": "code",
   "execution_count": 1,
   "metadata": {},
   "outputs": [],
   "source": [
    "import pandas as pd"
   ]
  },
  {
   "cell_type": "code",
   "execution_count": 53,
   "metadata": {},
   "outputs": [],
   "source": [
    "df_over = pd.read_csv('./국민여행조사/해외여행 데이터셋.csv')"
   ]
  },
  {
   "cell_type": "code",
   "execution_count": 54,
   "metadata": {},
   "outputs": [
    {
     "data": {
      "text/plain": [
       "Index(['ID', 'AA3_1', 'AA3_2', 'AA3_3', 'AA3_4', 'AA3_5', 'AA3_6', 'AA3_7',\n",
       "       'AA3_8', 'AA3_9', 'AA3_10', 'AA3_11', 'AA3_12', 'AA3_13', 'AA3_14',\n",
       "       'AA3_15', 'AA3_16', 'AA3_17', 'AA3_18', 'AA3_19', 'AA3_20', 'AA3_21',\n",
       "       'A01', 'A02', 'A03', 'A04', 'A05', 'A06', 'A07', 'A08', 'A09', 'A10',\n",
       "       'A11', 'A12', 'A13', 'A14', 'A15', 'label'],\n",
       "      dtype='object')"
      ]
     },
     "execution_count": 54,
     "metadata": {},
     "output_type": "execute_result"
    }
   ],
   "source": [
    "df_over.columns"
   ]
  },
  {
   "cell_type": "code",
   "execution_count": 56,
   "metadata": {},
   "outputs": [],
   "source": [
    "df_over_s = df_over[['A01', 'A02', 'A03', 'A04', 'A05', 'A06', 'A07', 'A08', 'A09', 'A10',\n",
    "       'A11', 'A12', 'A13', 'A14', 'A15']]\n",
    "df_over_slabel = df_over[['label']]\n",
    "df_over_a = df_over[['AA3_1', 'AA3_2', 'AA3_3', 'AA3_4', 'AA3_5', 'AA3_6', 'AA3_7',\n",
    "       'AA3_8', 'AA3_9', 'AA3_10', 'AA3_11', 'AA3_12', 'AA3_13', 'AA3_14',\n",
    "       'AA3_15', 'AA3_16', 'AA3_17', 'AA3_18', 'AA3_19', 'AA3_20', 'AA3_21']]\n",
    "df_over_alabel = df_over[['label']]"
   ]
  },
  {
   "cell_type": "code",
   "execution_count": 57,
   "metadata": {},
   "outputs": [],
   "source": [
    "from sklearn.ensemble import RandomForestClassifier\n",
    "from sklearn.model_selection import train_test_split\n",
    "from sklearn import metrics\n",
    "import matplotlib.pyplot as plt\n",
    "import seaborn as sns"
   ]
  },
  {
   "cell_type": "code",
   "execution_count": 58,
   "metadata": {},
   "outputs": [],
   "source": [
    "X = df_over_s\n",
    "y = df_over_slabel.label\n",
    "X_train, X_test, y_train, y_test = train_test_split(X, y, test_size = 0.25)"
   ]
  },
  {
   "cell_type": "code",
   "execution_count": 59,
   "metadata": {},
   "outputs": [
    {
     "data": {
      "text/plain": [
       "RandomForestClassifier(bootstrap=True, ccp_alpha=0.0, class_weight=None,\n",
       "                       criterion='gini', max_depth=None, max_features='auto',\n",
       "                       max_leaf_nodes=None, max_samples=None,\n",
       "                       min_impurity_decrease=0.0, min_impurity_split=None,\n",
       "                       min_samples_leaf=1, min_samples_split=3,\n",
       "                       min_weight_fraction_leaf=0.0, n_estimators=5, n_jobs=1,\n",
       "                       oob_score=False, random_state=None, verbose=0,\n",
       "                       warm_start=False)"
      ]
     },
     "execution_count": 59,
     "metadata": {},
     "output_type": "execute_result"
    }
   ],
   "source": [
    "# 여행지 선정기준에 따른 랜덤포레스트\n",
    "rfMod = RandomForestClassifier(n_estimators=5, criterion='gini', max_depth=None, min_samples_split=3,\n",
    "                              min_samples_leaf=1, min_weight_fraction_leaf=0.0, max_features='auto',\n",
    "                              max_leaf_nodes=None, bootstrap=True, oob_score=False, n_jobs=1, random_state=None,\n",
    "                              verbose=0)\n",
    "rfMod.fit(X_train, y_train)"
   ]
  },
  {
   "cell_type": "code",
   "execution_count": 60,
   "metadata": {},
   "outputs": [
    {
     "data": {
      "text/plain": [
       "0.9393939393939394"
      ]
     },
     "execution_count": 60,
     "metadata": {},
     "output_type": "execute_result"
    }
   ],
   "source": [
    "rfMod.score(X_train, y_train)"
   ]
  },
  {
   "cell_type": "code",
   "execution_count": 61,
   "metadata": {},
   "outputs": [
    {
     "name": "stdout",
     "output_type": "stream",
     "text": [
      "정확도 : 0.9090909090909091\n"
     ]
    }
   ],
   "source": [
    "y_pred = rfMod.predict(X_test)\n",
    "print('정확도 :', metrics.accuracy_score(y_test, y_pred))"
   ]
  },
  {
   "cell_type": "code",
   "execution_count": 62,
   "metadata": {
    "scrolled": true
   },
   "outputs": [
    {
     "name": "stdout",
     "output_type": "stream",
     "text": [
      " 1)A01                           0.244474\n",
      " 2)A02                           0.176501\n",
      " 3)A03                           0.173079\n",
      " 4)A04                           0.138231\n",
      " 5)A05                           0.125914\n",
      " 6)A06                           0.052040\n",
      " 7)A07                           0.041086\n",
      " 8)A08                           0.017145\n",
      " 9)A09                           0.013174\n",
      "10)A10                           0.011686\n",
      "11)A11                           0.004960\n",
      "12)A12                           0.001345\n",
      "13)A13                           0.000365\n",
      "14)A14                           0.000000\n",
      "15)A15                           0.000000\n"
     ]
    },
    {
     "data": {
      "image/png": "[encoded data removed]",
      "text/plain": [
       "<Figure size 432x288 with 1 Axes>"
      ]
     },
     "metadata": {
      "needs_background": "light"
     },
     "output_type": "display_data"
    }
   ],
   "source": [
    "import numpy as np\n",
    "X = df_over_s\n",
    "y = df_over_slabel.label\n",
    "features_label = df_over_s.columns\n",
    "forest = RandomForestClassifier(n_estimators = 50, random_state = 0, n_jobs = -1)\n",
    "forest.fit(X,y)\n",
    "importances = forest.feature_importances_\n",
    "indices = np.argsort(importances)[::-1]\n",
    "for i in range(X.shape[1]):\n",
    "     print('%2d)%-*s%f'%(i+1, 30, features_label[i], importances[indices[i]]))\n",
    "plt.title('Feature Importances')\n",
    "plt.bar(range(X.shape[1]), importances[indices], color='deepskyblue', align='center')\n",
    "plt.xticks(range(X.shape[1]), features_label, rotation=90)\n",
    "plt.xlim([-1, X.shape[1]])\n",
    "plt.show()"
   ]
  },
  {
   "cell_type": "code",
   "execution_count": 63,
   "metadata": {},
   "outputs": [
    {
     "data": {
      "text/plain": [
       "RandomForestClassifier(bootstrap=True, ccp_alpha=0.0, class_weight=None,\n",
       "                       criterion='gini', max_depth=None, max_features='auto',\n",
       "                       max_leaf_nodes=None, max_samples=None,\n",
       "                       min_impurity_decrease=0.0, min_impurity_split=None,\n",
       "                       min_samples_leaf=1, min_samples_split=3,\n",
       "                       min_weight_fraction_leaf=0.0, n_estimators=5, n_jobs=1,\n",
       "                       oob_score=False, random_state=None, verbose=0,\n",
       "                       warm_start=False)"
      ]
     },
     "execution_count": 63,
     "metadata": {},
     "output_type": "execute_result"
    }
   ],
   "source": [
    "X = df_over_a\n",
    "y = df_over_alabel.label\n",
    "X_train, X_test, y_train, y_test = train_test_split(X, y, test_size = 0.25)\n",
    "# 여행활동에 따른 랜덤포레스트\n",
    "rfMod = RandomForestClassifier(n_estimators=5, criterion='gini', max_depth=None, min_samples_split=3,\n",
    "                              min_samples_leaf=1, min_weight_fraction_leaf=0.0, max_features='auto',\n",
    "                              max_leaf_nodes=None, bootstrap=True, oob_score=False, n_jobs=1, random_state=None,\n",
    "                              verbose=0)\n",
    "rfMod.fit(X_train, y_train)"
   ]
  },
  {
   "cell_type": "code",
   "execution_count": 64,
   "metadata": {},
   "outputs": [
    {
     "data": {
      "text/plain": [
       "1.0"
      ]
     },
     "execution_count": 64,
     "metadata": {},
     "output_type": "execute_result"
    }
   ],
   "source": [
    "rfMod.score(X_train, y_train)"
   ]
  },
  {
   "cell_type": "code",
   "execution_count": 65,
   "metadata": {},
   "outputs": [
    {
     "name": "stdout",
     "output_type": "stream",
     "text": [
      "정확도 : 0.6363636363636364\n"
     ]
    }
   ],
   "source": [
    "y_pred = rfMod.predict(X_test)\n",
    "print('정확도 :', metrics.accuracy_score(y_test, y_pred))"
   ]
  },
  {
   "cell_type": "code",
   "execution_count": 66,
   "metadata": {},
   "outputs": [
    {
     "name": "stdout",
     "output_type": "stream",
     "text": [
      " 1)AA3_1                         0.223572\n",
      " 2)AA3_2                         0.136159\n",
      " 3)AA3_3                         0.115000\n",
      " 4)AA3_4                         0.099700\n",
      " 5)AA3_5                         0.094714\n",
      " 6)AA3_6                         0.068384\n",
      " 7)AA3_7                         0.053591\n",
      " 8)AA3_8                         0.045187\n",
      " 9)AA3_9                         0.042503\n",
      "10)AA3_10                        0.031905\n",
      "11)AA3_11                        0.029215\n",
      "12)AA3_12                        0.028286\n",
      "13)AA3_13                        0.023961\n",
      "14)AA3_14                        0.007824\n",
      "15)AA3_15                        0.000000\n",
      "16)AA3_16                        0.000000\n",
      "17)AA3_17                        0.000000\n",
      "18)AA3_18                        0.000000\n",
      "19)AA3_19                        0.000000\n",
      "20)AA3_20                        0.000000\n",
      "21)AA3_21                        0.000000\n"
     ]
    },
    {
     "data": {
      "image/png": "[encoded data removed]",
      "text/plain": [
       "<Figure size 432x288 with 1 Axes>"
      ]
     },
     "metadata": {
      "needs_background": "light"
     },
     "output_type": "display_data"
    }
   ],
   "source": [
    "X = df_over_a\n",
    "y = df_over_alabel.label\n",
    "features_label = df_over_a.columns\n",
    "forest = RandomForestClassifier(n_estimators = 50, random_state = 0, n_jobs = -1)\n",
    "forest.fit(X,y)\n",
    "importances = forest.feature_importances_\n",
    "indices = np.argsort(importances)[::-1]\n",
    "for i in range(X.shape[1]):\n",
    "     print('%2d)%-*s%f'%(i+1, 30, features_label[i], importances[indices[i]]))\n",
    "plt.title('Feature Importances')\n",
    "plt.bar(range(X.shape[1]), importances[indices], color='red', align='center')\n",
    "plt.xticks(range(X.shape[1]), features_label, rotation=90)\n",
    "plt.xlim([-1, X.shape[1]])\n",
    "plt.show()"
   ]
  }
 ],
 "metadata": {
  "kernelspec": {
   "display_name": "Python 3",
   "language": "python",
   "name": "python3"
  },
  "language_info": {
   "codemirror_mode": {
    "name": "ipython",
    "version": 3
   },
   "file_extension": ".py",
   "mimetype": "text/x-python",
   "name": "python",
   "nbconvert_exporter": "python",
   "pygments_lexer": "ipython3",
   "version": "3.7.6"
  }
 },
 "nbformat": 4,
 "nbformat_minor": 4
}
