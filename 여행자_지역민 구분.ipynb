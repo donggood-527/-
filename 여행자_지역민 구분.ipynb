{
 "cells": [
  {
   "cell_type": "code",
   "execution_count": 1,
   "metadata": {},
   "outputs": [],
   "source": [
    "import pandas as pd"
   ]
  },
  {
   "cell_type": "code",
   "execution_count": 2,
   "metadata": {},
   "outputs": [],
   "source": [
    "df_2017 = pd.read_csv('./신한카드 데이터/df_2017.csv', encoding='utf-8')\n",
    "df_2018 = pd.read_csv('./신한카드 데이터/df_2018.csv', encoding='utf-8')\n",
    "df_2019 = pd.read_csv('./신한카드 데이터/df_2019.csv', encoding='utf-8')\n",
    "df_2020 = pd.read_csv('./신한카드 데이터/df_2020.csv', encoding='utf-8')"
   ]
  },
  {
   "cell_type": "code",
   "execution_count": 5,
   "metadata": {
    "collapsed": true
   },
   "outputs": [
    {
     "data": {
      "text/html": [
       "<div>\n",
       "<style scoped>\n",
       "    .dataframe tbody tr th:only-of-type {\n",
       "        vertical-align: middle;\n",
       "    }\n",
       "\n",
       "    .dataframe tbody tr th {\n",
       "        vertical-align: top;\n",
       "    }\n",
       "\n",
       "    .dataframe thead th {\n",
       "        text-align: right;\n",
       "    }\n",
       "</style>\n",
       "<table border=\"1\" class=\"dataframe\">\n",
       "  <thead>\n",
       "    <tr style=\"text-align: right;\">\n",
       "      <th></th>\n",
       "      <th>거주지</th>\n",
       "      <th>가맹점</th>\n",
       "      <th>가맹점2</th>\n",
       "      <th>업종1</th>\n",
       "      <th>업종2</th>\n",
       "      <th>성별</th>\n",
       "      <th>연령대</th>\n",
       "      <th>이용년월</th>\n",
       "      <th>요일</th>\n",
       "      <th>이용시간대</th>\n",
       "      <th>취급액</th>\n",
       "      <th>이용건수</th>\n",
       "    </tr>\n",
       "  </thead>\n",
       "  <tbody>\n",
       "    <tr>\n",
       "      <th>0</th>\n",
       "      <td>울산</td>\n",
       "      <td>울산</td>\n",
       "      <td>남구</td>\n",
       "      <td>여행</td>\n",
       "      <td>숙박</td>\n",
       "      <td>M</td>\n",
       "      <td>20</td>\n",
       "      <td>201701</td>\n",
       "      <td>RED</td>\n",
       "      <td>활동</td>\n",
       "      <td>29642635.0</td>\n",
       "      <td>895</td>\n",
       "    </tr>\n",
       "    <tr>\n",
       "      <th>1</th>\n",
       "      <td>충북</td>\n",
       "      <td>대전</td>\n",
       "      <td>동구</td>\n",
       "      <td>여행</td>\n",
       "      <td>교통</td>\n",
       "      <td>F</td>\n",
       "      <td>20</td>\n",
       "      <td>201701</td>\n",
       "      <td>WHITE</td>\n",
       "      <td>휴식</td>\n",
       "      <td>123274128.0</td>\n",
       "      <td>10231</td>\n",
       "    </tr>\n",
       "    <tr>\n",
       "      <th>2</th>\n",
       "      <td>경북</td>\n",
       "      <td>대전</td>\n",
       "      <td>동구</td>\n",
       "      <td>여행</td>\n",
       "      <td>교통</td>\n",
       "      <td>M</td>\n",
       "      <td>30</td>\n",
       "      <td>201701</td>\n",
       "      <td>RED</td>\n",
       "      <td>휴식</td>\n",
       "      <td>95719488.0</td>\n",
       "      <td>7363</td>\n",
       "    </tr>\n",
       "    <tr>\n",
       "      <th>3</th>\n",
       "      <td>경북</td>\n",
       "      <td>대전</td>\n",
       "      <td>동구</td>\n",
       "      <td>여행</td>\n",
       "      <td>교통</td>\n",
       "      <td>F</td>\n",
       "      <td>30</td>\n",
       "      <td>201701</td>\n",
       "      <td>WHITE</td>\n",
       "      <td>휴식</td>\n",
       "      <td>188659152.0</td>\n",
       "      <td>12908</td>\n",
       "    </tr>\n",
       "    <tr>\n",
       "      <th>4</th>\n",
       "      <td>광주</td>\n",
       "      <td>대전</td>\n",
       "      <td>동구</td>\n",
       "      <td>여행</td>\n",
       "      <td>교통</td>\n",
       "      <td>F</td>\n",
       "      <td>20</td>\n",
       "      <td>201701</td>\n",
       "      <td>WHITE</td>\n",
       "      <td>활동</td>\n",
       "      <td>201232160.0</td>\n",
       "      <td>5600</td>\n",
       "    </tr>\n",
       "  </tbody>\n",
       "</table>\n",
       "</div>"
      ],
      "text/plain": [
       "  거주지 가맹점 가맹점2 업종1 업종2 성별  연령대    이용년월     요일 이용시간대          취급액   이용건수\n",
       "0  울산  울산   남구  여행  숙박  M   20  201701    RED    활동   29642635.0    895\n",
       "1  충북  대전   동구  여행  교통  F   20  201701  WHITE    휴식  123274128.0  10231\n",
       "2  경북  대전   동구  여행  교통  M   30  201701    RED    휴식   95719488.0   7363\n",
       "3  경북  대전   동구  여행  교통  F   30  201701  WHITE    휴식  188659152.0  12908\n",
       "4  광주  대전   동구  여행  교통  F   20  201701  WHITE    활동  201232160.0   5600"
      ]
     },
     "execution_count": 5,
     "metadata": {},
     "output_type": "execute_result"
    }
   ],
   "source": [
    "df_2017.head()"
   ]
  },
  {
   "cell_type": "code",
   "execution_count": 16,
   "metadata": {},
   "outputs": [],
   "source": [
    "df_2017 = df_2017[df_2017['거주지'] != df_2017['가맹점']]\n",
    "df_2018 = df_2018[df_2018['거주지'] != df_2018['가맹점']]\n",
    "df_2019 = df_2019[df_2019['거주지'] != df_2019['가맹점']]\n",
    "df_2020 = df_2020[df_2020['거주지'] != df_2020['가맹점']]"
   ]
  },
  {
   "cell_type": "code",
   "execution_count": 19,
   "metadata": {},
   "outputs": [],
   "source": [
    "df_2017.to_csv('./csv_file/여행자_2017.csv', encoding='utf-8')\n",
    "df_2018.to_csv('./csv_file/여행자_2018.csv', encoding='utf-8')\n",
    "df_2019.to_csv('./csv_file/여행자_2019.csv', encoding='utf-8')\n",
    "df_2020.to_csv('./csv_file/여행자_2020.csv', encoding='utf-8')"
   ]
  }
 ],
 "metadata": {
  "kernelspec": {
   "display_name": "Python 3",
   "language": "python",
   "name": "python3"
  },
  "language_info": {
   "codemirror_mode": {
    "name": "ipython",
    "version": 3
   },
   "file_extension": ".py",
   "mimetype": "text/x-python",
   "name": "python",
   "nbconvert_exporter": "python",
   "pygments_lexer": "ipython3",
   "version": "3.7.6"
  }
 },
 "nbformat": 4,
 "nbformat_minor": 4
}
